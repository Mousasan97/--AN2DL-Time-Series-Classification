{
  "nbformat": 4,
  "nbformat_minor": 0,
  "metadata": {
    "colab": {
      "provenance": [],
      "collapsed_sections": [
        "i_mtc3LLl2G1",
        "6W-erhC9IS_5",
        "KwbQZZ804S0O"
      ]
    },
    "kernelspec": {
      "name": "python3",
      "display_name": "Python 3"
    },
    "language_info": {
      "name": "python"
    },
    "accelerator": "GPU",
    "gpuClass": "standard"
  },
  "cells": [
    {
      "cell_type": "markdown",
      "source": [
        "# Accessing google drive"
      ],
      "metadata": {
        "id": "Xnd8dehxF3q4"
      }
    },
    {
      "cell_type": "code",
      "execution_count": 1,
      "metadata": {
        "colab": {
          "base_uri": "https://localhost:8080/"
        },
        "id": "5_v65YDvHkvP",
        "outputId": "923372cd-22d9-4590-f65a-8a33c250ee56"
      },
      "outputs": [
        {
          "output_type": "stream",
          "name": "stdout",
          "text": [
            "Mounted at /gdrive\n"
          ]
        }
      ],
      "source": [
        "from google.colab import drive\n",
        "drive.mount('/gdrive')"
      ]
    },
    {
      "cell_type": "code",
      "source": [
        "%cd /gdrive/My Drive/challenge 2"
      ],
      "metadata": {
        "colab": {
          "base_uri": "https://localhost:8080/"
        },
        "id": "QOwixjGGdo2s",
        "outputId": "a2052390-a2e1-4a09-eb2c-2e23b13905d0"
      },
      "execution_count": 2,
      "outputs": [
        {
          "output_type": "stream",
          "name": "stdout",
          "text": [
            "/gdrive/My Drive/challenge 2\n"
          ]
        }
      ]
    },
    {
      "cell_type": "markdown",
      "source": [
        "# Importing the required modules"
      ],
      "metadata": {
        "id": "A1fiRGARGHF2"
      }
    },
    {
      "cell_type": "code",
      "source": [
        "import tensorflow as tf\n",
        "import numpy as np\n",
        "import os\n",
        "import random\n",
        "import pandas as pd\n",
        "import seaborn as sns\n",
        "import matplotlib.pyplot as plt\n",
        "plt.rc('font', size=16) \n",
        "from sklearn.metrics import accuracy_score, f1_score, precision_score, recall_score\n",
        "from sklearn.metrics import confusion_matrix\n",
        "from sklearn.preprocessing import MinMaxScaler, StandardScaler, RobustScaler\n",
        "import warnings\n",
        "import logging\n",
        "import pickle\n",
        "from sklearn.model_selection import train_test_split\n",
        "tfk = tf.keras\n",
        "tfkl = tf.keras.layers\n",
        "print(tf.__version__)"
      ],
      "metadata": {
        "colab": {
          "base_uri": "https://localhost:8080/"
        },
        "id": "7Bvg-z1pdwju",
        "outputId": "358d864c-e2d9-4729-afeb-bfaa9576f40e"
      },
      "execution_count": 3,
      "outputs": [
        {
          "output_type": "stream",
          "name": "stdout",
          "text": [
            "2.9.2\n"
          ]
        }
      ]
    },
    {
      "cell_type": "markdown",
      "source": [
        "Random seed for reproducibility\n",
        "\n"
      ],
      "metadata": {
        "id": "WDPBHjZqGqiE"
      }
    },
    {
      "cell_type": "code",
      "source": [
        "seed = 42\n",
        "random.seed(seed)\n",
        "os.environ['PYTHONHASHSEED'] = str(seed)\n",
        "np.random.seed(seed)\n",
        "tf.random.set_seed(seed)\n",
        "tf.compat.v1.set_random_seed(seed)"
      ],
      "metadata": {
        "id": "zWjDXXFndkbq"
      },
      "execution_count": 4,
      "outputs": []
    },
    {
      "cell_type": "markdown",
      "source": [
        "#Loading the numpy arrays"
      ],
      "metadata": {
        "id": "NgIid15Nd584"
      }
    },
    {
      "cell_type": "markdown",
      "source": [
        "### Metadata:\n",
        "####Time series shape: 2429x36x6\n",
        "####File format: .npy\n",
        "####Number of classes: 12\n",
        "####Classes:\n",
        "0: \"Wish\"\n",
        "1: \"Another\"\n",
        "2: \"Comfortably\"\n",
        "3: \"Money\"\n",
        "4: \"Breathe\"\n",
        "5: \"Time\"\n",
        "6: \"Brain\"\n",
        "7: \"Echoes\"\n",
        "8: \"Wearing\"\n",
        "9: \"Sorrow\"\n",
        "10: \"Hey\"\n",
        "11: \"Shine\"\n"
      ],
      "metadata": {
        "id": "9BjwiciMAi6p"
      }
    },
    {
      "cell_type": "code",
      "source": [
        "x = np.load('x_train.npy')\n",
        "y = np.load('y_train.npy')"
      ],
      "metadata": {
        "id": "tmFBdARodwYQ"
      },
      "execution_count": 5,
      "outputs": []
    },
    {
      "cell_type": "code",
      "source": [
        "x.shape, y.shape"
      ],
      "metadata": {
        "colab": {
          "base_uri": "https://localhost:8080/"
        },
        "id": "1E59EPEHmeaf",
        "outputId": "9ae41b2a-7e0c-4955-ec03-f300e949fd8f"
      },
      "execution_count": 6,
      "outputs": [
        {
          "output_type": "execute_result",
          "data": {
            "text/plain": [
              "((2429, 36, 6), (2429,))"
            ]
          },
          "metadata": {},
          "execution_count": 6
        }
      ]
    },
    {
      "cell_type": "markdown",
      "source": [
        "# Scaling by feature"
      ],
      "metadata": {
        "id": "CMxUlDMzmSQx"
      }
    },
    {
      "cell_type": "code",
      "source": [
        "X = x.reshape(-1,x.shape[-1])\n",
        "scaler = RobustScaler()\n",
        "scaler = scaler.fit(X)\n",
        "X = scaler.transform(X)\n",
        "x = X.reshape(x.shape)"
      ],
      "metadata": {
        "id": "1DyFeCsbWJfX"
      },
      "execution_count": 7,
      "outputs": []
    },
    {
      "cell_type": "markdown",
      "source": [
        "# Creating a **dataframe**"
      ],
      "metadata": {
        "id": "YxVKRfQElVQ_"
      }
    },
    {
      "cell_type": "code",
      "source": [
        "#Flattening x to get the unique timestamps \n",
        "flat = x.reshape(-1,x.shape[-1])\n",
        "flat.shape"
      ],
      "metadata": {
        "id": "4epi11fazykL",
        "colab": {
          "base_uri": "https://localhost:8080/"
        },
        "outputId": "99951172-a466-4ae0-8023-4d24e20656a4"
      },
      "execution_count": 9,
      "outputs": [
        {
          "output_type": "execute_result",
          "data": {
            "text/plain": [
              "(87444, 6)"
            ]
          },
          "metadata": {},
          "execution_count": 9
        }
      ]
    },
    {
      "cell_type": "code",
      "source": [
        "#Creating a dataframe of the labels \n",
        "df_y = pd.DataFrame(data=y,columns=['label']) "
      ],
      "metadata": {
        "id": "r5pygRI7-Wq_"
      },
      "execution_count": 10,
      "outputs": []
    },
    {
      "cell_type": "code",
      "source": [
        "#Creating dataframe for all the features, and intializing a label column with temporary label of zero\n",
        "df_x = pd.DataFrame(data=flat,columns=['f1','f2','f3','f4','f5','f6'])\n",
        "df_x['label'] = 0 "
      ],
      "metadata": {
        "id": "a86AzhQEl02m"
      },
      "execution_count": 11,
      "outputs": []
    },
    {
      "cell_type": "code",
      "source": [
        "df_x"
      ],
      "metadata": {
        "colab": {
          "base_uri": "https://localhost:8080/",
          "height": 424
        },
        "id": "BMBo-BFYGLCa",
        "outputId": "20107336-fe8c-4525-fdd2-cfe6a7d9af9d"
      },
      "execution_count": 12,
      "outputs": [
        {
          "output_type": "execute_result",
          "data": {
            "text/plain": [
              "             f1        f2        f3        f4        f5        f6  label\n",
              "0      1.894384  1.333320 -0.282070 -1.665811 -0.606524 -2.192279      0\n",
              "1     -0.005006 -1.083487  1.873873  0.330330  0.063212  1.945614      0\n",
              "2     -3.273275 -3.729399  3.294017 -0.114479  4.085907  0.292902      0\n",
              "3     -6.505700 -5.150079  2.005166 -3.755123  0.999377 -1.545807      0\n",
              "4     -7.911492 -4.512672 -0.021618 -4.847776 -1.675718 -0.480480      0\n",
              "...         ...       ...       ...       ...       ...       ...    ...\n",
              "87439  0.353951 -0.247950 -0.272206  0.259253  0.080917  0.132502      0\n",
              "87440  0.047357 -0.233143 -0.297515  0.092826 -0.333815  0.181468      0\n",
              "87441 -0.007561  0.106164 -0.182607 -0.133944  0.024622  0.090764      0\n",
              "87442  0.422961  0.117365 -0.097404  0.015884 -0.019427  0.070568      0\n",
              "87443 -0.200142 -0.278824  0.048444  0.030904  0.061437  0.217202      0\n",
              "\n",
              "[87444 rows x 7 columns]"
            ],
            "text/html": [
              "\n",
              "  <div id=\"df-fc45432a-4fb1-4d21-b95c-c985b459d90e\">\n",
              "    <div class=\"colab-df-container\">\n",
              "      <div>\n",
              "<style scoped>\n",
              "    .dataframe tbody tr th:only-of-type {\n",
              "        vertical-align: middle;\n",
              "    }\n",
              "\n",
              "    .dataframe tbody tr th {\n",
              "        vertical-align: top;\n",
              "    }\n",
              "\n",
              "    .dataframe thead th {\n",
              "        text-align: right;\n",
              "    }\n",
              "</style>\n",
              "<table border=\"1\" class=\"dataframe\">\n",
              "  <thead>\n",
              "    <tr style=\"text-align: right;\">\n",
              "      <th></th>\n",
              "      <th>f1</th>\n",
              "      <th>f2</th>\n",
              "      <th>f3</th>\n",
              "      <th>f4</th>\n",
              "      <th>f5</th>\n",
              "      <th>f6</th>\n",
              "      <th>label</th>\n",
              "    </tr>\n",
              "  </thead>\n",
              "  <tbody>\n",
              "    <tr>\n",
              "      <th>0</th>\n",
              "      <td>1.894384</td>\n",
              "      <td>1.333320</td>\n",
              "      <td>-0.282070</td>\n",
              "      <td>-1.665811</td>\n",
              "      <td>-0.606524</td>\n",
              "      <td>-2.192279</td>\n",
              "      <td>0</td>\n",
              "    </tr>\n",
              "    <tr>\n",
              "      <th>1</th>\n",
              "      <td>-0.005006</td>\n",
              "      <td>-1.083487</td>\n",
              "      <td>1.873873</td>\n",
              "      <td>0.330330</td>\n",
              "      <td>0.063212</td>\n",
              "      <td>1.945614</td>\n",
              "      <td>0</td>\n",
              "    </tr>\n",
              "    <tr>\n",
              "      <th>2</th>\n",
              "      <td>-3.273275</td>\n",
              "      <td>-3.729399</td>\n",
              "      <td>3.294017</td>\n",
              "      <td>-0.114479</td>\n",
              "      <td>4.085907</td>\n",
              "      <td>0.292902</td>\n",
              "      <td>0</td>\n",
              "    </tr>\n",
              "    <tr>\n",
              "      <th>3</th>\n",
              "      <td>-6.505700</td>\n",
              "      <td>-5.150079</td>\n",
              "      <td>2.005166</td>\n",
              "      <td>-3.755123</td>\n",
              "      <td>0.999377</td>\n",
              "      <td>-1.545807</td>\n",
              "      <td>0</td>\n",
              "    </tr>\n",
              "    <tr>\n",
              "      <th>4</th>\n",
              "      <td>-7.911492</td>\n",
              "      <td>-4.512672</td>\n",
              "      <td>-0.021618</td>\n",
              "      <td>-4.847776</td>\n",
              "      <td>-1.675718</td>\n",
              "      <td>-0.480480</td>\n",
              "      <td>0</td>\n",
              "    </tr>\n",
              "    <tr>\n",
              "      <th>...</th>\n",
              "      <td>...</td>\n",
              "      <td>...</td>\n",
              "      <td>...</td>\n",
              "      <td>...</td>\n",
              "      <td>...</td>\n",
              "      <td>...</td>\n",
              "      <td>...</td>\n",
              "    </tr>\n",
              "    <tr>\n",
              "      <th>87439</th>\n",
              "      <td>0.353951</td>\n",
              "      <td>-0.247950</td>\n",
              "      <td>-0.272206</td>\n",
              "      <td>0.259253</td>\n",
              "      <td>0.080917</td>\n",
              "      <td>0.132502</td>\n",
              "      <td>0</td>\n",
              "    </tr>\n",
              "    <tr>\n",
              "      <th>87440</th>\n",
              "      <td>0.047357</td>\n",
              "      <td>-0.233143</td>\n",
              "      <td>-0.297515</td>\n",
              "      <td>0.092826</td>\n",
              "      <td>-0.333815</td>\n",
              "      <td>0.181468</td>\n",
              "      <td>0</td>\n",
              "    </tr>\n",
              "    <tr>\n",
              "      <th>87441</th>\n",
              "      <td>-0.007561</td>\n",
              "      <td>0.106164</td>\n",
              "      <td>-0.182607</td>\n",
              "      <td>-0.133944</td>\n",
              "      <td>0.024622</td>\n",
              "      <td>0.090764</td>\n",
              "      <td>0</td>\n",
              "    </tr>\n",
              "    <tr>\n",
              "      <th>87442</th>\n",
              "      <td>0.422961</td>\n",
              "      <td>0.117365</td>\n",
              "      <td>-0.097404</td>\n",
              "      <td>0.015884</td>\n",
              "      <td>-0.019427</td>\n",
              "      <td>0.070568</td>\n",
              "      <td>0</td>\n",
              "    </tr>\n",
              "    <tr>\n",
              "      <th>87443</th>\n",
              "      <td>-0.200142</td>\n",
              "      <td>-0.278824</td>\n",
              "      <td>0.048444</td>\n",
              "      <td>0.030904</td>\n",
              "      <td>0.061437</td>\n",
              "      <td>0.217202</td>\n",
              "      <td>0</td>\n",
              "    </tr>\n",
              "  </tbody>\n",
              "</table>\n",
              "<p>87444 rows × 7 columns</p>\n",
              "</div>\n",
              "      <button class=\"colab-df-convert\" onclick=\"convertToInteractive('df-fc45432a-4fb1-4d21-b95c-c985b459d90e')\"\n",
              "              title=\"Convert this dataframe to an interactive table.\"\n",
              "              style=\"display:none;\">\n",
              "        \n",
              "  <svg xmlns=\"http://www.w3.org/2000/svg\" height=\"24px\"viewBox=\"0 0 24 24\"\n",
              "       width=\"24px\">\n",
              "    <path d=\"M0 0h24v24H0V0z\" fill=\"none\"/>\n",
              "    <path d=\"M18.56 5.44l.94 2.06.94-2.06 2.06-.94-2.06-.94-.94-2.06-.94 2.06-2.06.94zm-11 1L8.5 8.5l.94-2.06 2.06-.94-2.06-.94L8.5 2.5l-.94 2.06-2.06.94zm10 10l.94 2.06.94-2.06 2.06-.94-2.06-.94-.94-2.06-.94 2.06-2.06.94z\"/><path d=\"M17.41 7.96l-1.37-1.37c-.4-.4-.92-.59-1.43-.59-.52 0-1.04.2-1.43.59L10.3 9.45l-7.72 7.72c-.78.78-.78 2.05 0 2.83L4 21.41c.39.39.9.59 1.41.59.51 0 1.02-.2 1.41-.59l7.78-7.78 2.81-2.81c.8-.78.8-2.07 0-2.86zM5.41 20L4 18.59l7.72-7.72 1.47 1.35L5.41 20z\"/>\n",
              "  </svg>\n",
              "      </button>\n",
              "      \n",
              "  <style>\n",
              "    .colab-df-container {\n",
              "      display:flex;\n",
              "      flex-wrap:wrap;\n",
              "      gap: 12px;\n",
              "    }\n",
              "\n",
              "    .colab-df-convert {\n",
              "      background-color: #E8F0FE;\n",
              "      border: none;\n",
              "      border-radius: 50%;\n",
              "      cursor: pointer;\n",
              "      display: none;\n",
              "      fill: #1967D2;\n",
              "      height: 32px;\n",
              "      padding: 0 0 0 0;\n",
              "      width: 32px;\n",
              "    }\n",
              "\n",
              "    .colab-df-convert:hover {\n",
              "      background-color: #E2EBFA;\n",
              "      box-shadow: 0px 1px 2px rgba(60, 64, 67, 0.3), 0px 1px 3px 1px rgba(60, 64, 67, 0.15);\n",
              "      fill: #174EA6;\n",
              "    }\n",
              "\n",
              "    [theme=dark] .colab-df-convert {\n",
              "      background-color: #3B4455;\n",
              "      fill: #D2E3FC;\n",
              "    }\n",
              "\n",
              "    [theme=dark] .colab-df-convert:hover {\n",
              "      background-color: #434B5C;\n",
              "      box-shadow: 0px 1px 3px 1px rgba(0, 0, 0, 0.15);\n",
              "      filter: drop-shadow(0px 1px 2px rgba(0, 0, 0, 0.3));\n",
              "      fill: #FFFFFF;\n",
              "    }\n",
              "  </style>\n",
              "\n",
              "      <script>\n",
              "        const buttonEl =\n",
              "          document.querySelector('#df-fc45432a-4fb1-4d21-b95c-c985b459d90e button.colab-df-convert');\n",
              "        buttonEl.style.display =\n",
              "          google.colab.kernel.accessAllowed ? 'block' : 'none';\n",
              "\n",
              "        async function convertToInteractive(key) {\n",
              "          const element = document.querySelector('#df-fc45432a-4fb1-4d21-b95c-c985b459d90e');\n",
              "          const dataTable =\n",
              "            await google.colab.kernel.invokeFunction('convertToInteractive',\n",
              "                                                     [key], {});\n",
              "          if (!dataTable) return;\n",
              "\n",
              "          const docLinkHtml = 'Like what you see? Visit the ' +\n",
              "            '<a target=\"_blank\" href=https://colab.research.google.com/notebooks/data_table.ipynb>data table notebook</a>'\n",
              "            + ' to learn more about interactive tables.';\n",
              "          element.innerHTML = '';\n",
              "          dataTable['output_type'] = 'display_data';\n",
              "          await google.colab.output.renderOutput(dataTable, element);\n",
              "          const docLink = document.createElement('div');\n",
              "          docLink.innerHTML = docLinkHtml;\n",
              "          element.appendChild(docLink);\n",
              "        }\n",
              "      </script>\n",
              "    </div>\n",
              "  </div>\n",
              "  "
            ]
          },
          "metadata": {},
          "execution_count": 12
        }
      ]
    },
    {
      "cell_type": "code",
      "source": [
        "#Counting the number of sequences for each class\n",
        "label_count = df_y.value_counts()\n",
        "label_count"
      ],
      "metadata": {
        "colab": {
          "base_uri": "https://localhost:8080/"
        },
        "id": "93bxqQLAlaeV",
        "outputId": "80f47364-6e2c-48ba-9513-374f00c57548"
      },
      "execution_count": 13,
      "outputs": [
        {
          "output_type": "execute_result",
          "data": {
            "text/plain": [
              "label\n",
              "9        777\n",
              "3        381\n",
              "6        313\n",
              "2        270\n",
              "5        153\n",
              "1        123\n",
              "8        120\n",
              "10        77\n",
              "7         68\n",
              "4         62\n",
              "11        51\n",
              "0         34\n",
              "dtype: int64"
            ]
          },
          "metadata": {},
          "execution_count": 13
        }
      ]
    },
    {
      "cell_type": "code",
      "source": [
        "#Identifying the boundaries of each class sequencesm to help with building the dataframe \n",
        "split = []\n",
        "sum = 0\n",
        "for i in range(0,12):\n",
        "  sum = sum + label_count[i]\n",
        "  split.append(sum)\n",
        "split"
      ],
      "metadata": {
        "colab": {
          "base_uri": "https://localhost:8080/"
        },
        "id": "Mj2I3ayUs--Z",
        "outputId": "ecaa7037-8681-45b8-a968-cb9c0171f933"
      },
      "execution_count": 14,
      "outputs": [
        {
          "output_type": "execute_result",
          "data": {
            "text/plain": [
              "[34, 157, 427, 808, 870, 1023, 1336, 1404, 1524, 2301, 2378, 2429]"
            ]
          },
          "metadata": {},
          "execution_count": 14
        }
      ]
    },
    {
      "cell_type": "code",
      "source": [
        "#Assigning the right labels for all the sequences\n",
        "df_x.iloc[:label_count[0]*36]['label'] = 0\n",
        "for label in range(1,12):\n",
        "  df_x.iloc[split[label-1]*36:split[label]*36]['label'] = label"
      ],
      "metadata": {
        "colab": {
          "base_uri": "https://localhost:8080/"
        },
        "id": "zH07U9k-o9sq",
        "outputId": "cf29f4d2-54fd-46bd-862a-deb01ffafd35"
      },
      "execution_count": 15,
      "outputs": [
        {
          "output_type": "stream",
          "name": "stderr",
          "text": [
            "<ipython-input-15-d9a297979acf>:2: SettingWithCopyWarning: \n",
            "A value is trying to be set on a copy of a slice from a DataFrame.\n",
            "Try using .loc[row_indexer,col_indexer] = value instead\n",
            "\n",
            "See the caveats in the documentation: https://pandas.pydata.org/pandas-docs/stable/user_guide/indexing.html#returning-a-view-versus-a-copy\n",
            "  df_x.iloc[:label_count[0]*36]['label'] = 0\n",
            "<ipython-input-15-d9a297979acf>:4: SettingWithCopyWarning: \n",
            "A value is trying to be set on a copy of a slice from a DataFrame.\n",
            "Try using .loc[row_indexer,col_indexer] = value instead\n",
            "\n",
            "See the caveats in the documentation: https://pandas.pydata.org/pandas-docs/stable/user_guide/indexing.html#returning-a-view-versus-a-copy\n",
            "  df_x.iloc[split[label-1]*36:split[label]*36]['label'] = label\n"
          ]
        }
      ]
    },
    {
      "cell_type": "code",
      "source": [
        "#Checking for the number of classes after converting into a dataframe\n",
        "df_x['label'].value_counts()/36"
      ],
      "metadata": {
        "colab": {
          "base_uri": "https://localhost:8080/"
        },
        "id": "GCYw_Ul90UMa",
        "outputId": "737e73bb-1855-41fd-bebb-29e03385c87b"
      },
      "execution_count": 16,
      "outputs": [
        {
          "output_type": "execute_result",
          "data": {
            "text/plain": [
              "9     777.0\n",
              "3     381.0\n",
              "6     313.0\n",
              "2     270.0\n",
              "5     153.0\n",
              "1     123.0\n",
              "8     120.0\n",
              "10     77.0\n",
              "7      68.0\n",
              "4      62.0\n",
              "11     51.0\n",
              "0      34.0\n",
              "Name: label, dtype: float64"
            ]
          },
          "metadata": {},
          "execution_count": 16
        }
      ]
    },
    {
      "cell_type": "code",
      "source": [
        "df_x"
      ],
      "metadata": {
        "colab": {
          "base_uri": "https://localhost:8080/",
          "height": 424
        },
        "id": "cR21eVxOHOXq",
        "outputId": "9aebf35b-e8d3-4bbe-cd44-653e2938ea89"
      },
      "execution_count": 17,
      "outputs": [
        {
          "output_type": "execute_result",
          "data": {
            "text/plain": [
              "             f1        f2        f3        f4        f5        f6  label\n",
              "0      1.894384  1.333320 -0.282070 -1.665811 -0.606524 -2.192279      0\n",
              "1     -0.005006 -1.083487  1.873873  0.330330  0.063212  1.945614      0\n",
              "2     -3.273275 -3.729399  3.294017 -0.114479  4.085907  0.292902      0\n",
              "3     -6.505700 -5.150079  2.005166 -3.755123  0.999377 -1.545807      0\n",
              "4     -7.911492 -4.512672 -0.021618 -4.847776 -1.675718 -0.480480      0\n",
              "...         ...       ...       ...       ...       ...       ...    ...\n",
              "87439  0.353951 -0.247950 -0.272206  0.259253  0.080917  0.132502     11\n",
              "87440  0.047357 -0.233143 -0.297515  0.092826 -0.333815  0.181468     11\n",
              "87441 -0.007561  0.106164 -0.182607 -0.133944  0.024622  0.090764     11\n",
              "87442  0.422961  0.117365 -0.097404  0.015884 -0.019427  0.070568     11\n",
              "87443 -0.200142 -0.278824  0.048444  0.030904  0.061437  0.217202     11\n",
              "\n",
              "[87444 rows x 7 columns]"
            ],
            "text/html": [
              "\n",
              "  <div id=\"df-dbde3771-50b6-4c78-980b-7aeef0d508f6\">\n",
              "    <div class=\"colab-df-container\">\n",
              "      <div>\n",
              "<style scoped>\n",
              "    .dataframe tbody tr th:only-of-type {\n",
              "        vertical-align: middle;\n",
              "    }\n",
              "\n",
              "    .dataframe tbody tr th {\n",
              "        vertical-align: top;\n",
              "    }\n",
              "\n",
              "    .dataframe thead th {\n",
              "        text-align: right;\n",
              "    }\n",
              "</style>\n",
              "<table border=\"1\" class=\"dataframe\">\n",
              "  <thead>\n",
              "    <tr style=\"text-align: right;\">\n",
              "      <th></th>\n",
              "      <th>f1</th>\n",
              "      <th>f2</th>\n",
              "      <th>f3</th>\n",
              "      <th>f4</th>\n",
              "      <th>f5</th>\n",
              "      <th>f6</th>\n",
              "      <th>label</th>\n",
              "    </tr>\n",
              "  </thead>\n",
              "  <tbody>\n",
              "    <tr>\n",
              "      <th>0</th>\n",
              "      <td>1.894384</td>\n",
              "      <td>1.333320</td>\n",
              "      <td>-0.282070</td>\n",
              "      <td>-1.665811</td>\n",
              "      <td>-0.606524</td>\n",
              "      <td>-2.192279</td>\n",
              "      <td>0</td>\n",
              "    </tr>\n",
              "    <tr>\n",
              "      <th>1</th>\n",
              "      <td>-0.005006</td>\n",
              "      <td>-1.083487</td>\n",
              "      <td>1.873873</td>\n",
              "      <td>0.330330</td>\n",
              "      <td>0.063212</td>\n",
              "      <td>1.945614</td>\n",
              "      <td>0</td>\n",
              "    </tr>\n",
              "    <tr>\n",
              "      <th>2</th>\n",
              "      <td>-3.273275</td>\n",
              "      <td>-3.729399</td>\n",
              "      <td>3.294017</td>\n",
              "      <td>-0.114479</td>\n",
              "      <td>4.085907</td>\n",
              "      <td>0.292902</td>\n",
              "      <td>0</td>\n",
              "    </tr>\n",
              "    <tr>\n",
              "      <th>3</th>\n",
              "      <td>-6.505700</td>\n",
              "      <td>-5.150079</td>\n",
              "      <td>2.005166</td>\n",
              "      <td>-3.755123</td>\n",
              "      <td>0.999377</td>\n",
              "      <td>-1.545807</td>\n",
              "      <td>0</td>\n",
              "    </tr>\n",
              "    <tr>\n",
              "      <th>4</th>\n",
              "      <td>-7.911492</td>\n",
              "      <td>-4.512672</td>\n",
              "      <td>-0.021618</td>\n",
              "      <td>-4.847776</td>\n",
              "      <td>-1.675718</td>\n",
              "      <td>-0.480480</td>\n",
              "      <td>0</td>\n",
              "    </tr>\n",
              "    <tr>\n",
              "      <th>...</th>\n",
              "      <td>...</td>\n",
              "      <td>...</td>\n",
              "      <td>...</td>\n",
              "      <td>...</td>\n",
              "      <td>...</td>\n",
              "      <td>...</td>\n",
              "      <td>...</td>\n",
              "    </tr>\n",
              "    <tr>\n",
              "      <th>87439</th>\n",
              "      <td>0.353951</td>\n",
              "      <td>-0.247950</td>\n",
              "      <td>-0.272206</td>\n",
              "      <td>0.259253</td>\n",
              "      <td>0.080917</td>\n",
              "      <td>0.132502</td>\n",
              "      <td>11</td>\n",
              "    </tr>\n",
              "    <tr>\n",
              "      <th>87440</th>\n",
              "      <td>0.047357</td>\n",
              "      <td>-0.233143</td>\n",
              "      <td>-0.297515</td>\n",
              "      <td>0.092826</td>\n",
              "      <td>-0.333815</td>\n",
              "      <td>0.181468</td>\n",
              "      <td>11</td>\n",
              "    </tr>\n",
              "    <tr>\n",
              "      <th>87441</th>\n",
              "      <td>-0.007561</td>\n",
              "      <td>0.106164</td>\n",
              "      <td>-0.182607</td>\n",
              "      <td>-0.133944</td>\n",
              "      <td>0.024622</td>\n",
              "      <td>0.090764</td>\n",
              "      <td>11</td>\n",
              "    </tr>\n",
              "    <tr>\n",
              "      <th>87442</th>\n",
              "      <td>0.422961</td>\n",
              "      <td>0.117365</td>\n",
              "      <td>-0.097404</td>\n",
              "      <td>0.015884</td>\n",
              "      <td>-0.019427</td>\n",
              "      <td>0.070568</td>\n",
              "      <td>11</td>\n",
              "    </tr>\n",
              "    <tr>\n",
              "      <th>87443</th>\n",
              "      <td>-0.200142</td>\n",
              "      <td>-0.278824</td>\n",
              "      <td>0.048444</td>\n",
              "      <td>0.030904</td>\n",
              "      <td>0.061437</td>\n",
              "      <td>0.217202</td>\n",
              "      <td>11</td>\n",
              "    </tr>\n",
              "  </tbody>\n",
              "</table>\n",
              "<p>87444 rows × 7 columns</p>\n",
              "</div>\n",
              "      <button class=\"colab-df-convert\" onclick=\"convertToInteractive('df-dbde3771-50b6-4c78-980b-7aeef0d508f6')\"\n",
              "              title=\"Convert this dataframe to an interactive table.\"\n",
              "              style=\"display:none;\">\n",
              "        \n",
              "  <svg xmlns=\"http://www.w3.org/2000/svg\" height=\"24px\"viewBox=\"0 0 24 24\"\n",
              "       width=\"24px\">\n",
              "    <path d=\"M0 0h24v24H0V0z\" fill=\"none\"/>\n",
              "    <path d=\"M18.56 5.44l.94 2.06.94-2.06 2.06-.94-2.06-.94-.94-2.06-.94 2.06-2.06.94zm-11 1L8.5 8.5l.94-2.06 2.06-.94-2.06-.94L8.5 2.5l-.94 2.06-2.06.94zm10 10l.94 2.06.94-2.06 2.06-.94-2.06-.94-.94-2.06-.94 2.06-2.06.94z\"/><path d=\"M17.41 7.96l-1.37-1.37c-.4-.4-.92-.59-1.43-.59-.52 0-1.04.2-1.43.59L10.3 9.45l-7.72 7.72c-.78.78-.78 2.05 0 2.83L4 21.41c.39.39.9.59 1.41.59.51 0 1.02-.2 1.41-.59l7.78-7.78 2.81-2.81c.8-.78.8-2.07 0-2.86zM5.41 20L4 18.59l7.72-7.72 1.47 1.35L5.41 20z\"/>\n",
              "  </svg>\n",
              "      </button>\n",
              "      \n",
              "  <style>\n",
              "    .colab-df-container {\n",
              "      display:flex;\n",
              "      flex-wrap:wrap;\n",
              "      gap: 12px;\n",
              "    }\n",
              "\n",
              "    .colab-df-convert {\n",
              "      background-color: #E8F0FE;\n",
              "      border: none;\n",
              "      border-radius: 50%;\n",
              "      cursor: pointer;\n",
              "      display: none;\n",
              "      fill: #1967D2;\n",
              "      height: 32px;\n",
              "      padding: 0 0 0 0;\n",
              "      width: 32px;\n",
              "    }\n",
              "\n",
              "    .colab-df-convert:hover {\n",
              "      background-color: #E2EBFA;\n",
              "      box-shadow: 0px 1px 2px rgba(60, 64, 67, 0.3), 0px 1px 3px 1px rgba(60, 64, 67, 0.15);\n",
              "      fill: #174EA6;\n",
              "    }\n",
              "\n",
              "    [theme=dark] .colab-df-convert {\n",
              "      background-color: #3B4455;\n",
              "      fill: #D2E3FC;\n",
              "    }\n",
              "\n",
              "    [theme=dark] .colab-df-convert:hover {\n",
              "      background-color: #434B5C;\n",
              "      box-shadow: 0px 1px 3px 1px rgba(0, 0, 0, 0.15);\n",
              "      filter: drop-shadow(0px 1px 2px rgba(0, 0, 0, 0.3));\n",
              "      fill: #FFFFFF;\n",
              "    }\n",
              "  </style>\n",
              "\n",
              "      <script>\n",
              "        const buttonEl =\n",
              "          document.querySelector('#df-dbde3771-50b6-4c78-980b-7aeef0d508f6 button.colab-df-convert');\n",
              "        buttonEl.style.display =\n",
              "          google.colab.kernel.accessAllowed ? 'block' : 'none';\n",
              "\n",
              "        async function convertToInteractive(key) {\n",
              "          const element = document.querySelector('#df-dbde3771-50b6-4c78-980b-7aeef0d508f6');\n",
              "          const dataTable =\n",
              "            await google.colab.kernel.invokeFunction('convertToInteractive',\n",
              "                                                     [key], {});\n",
              "          if (!dataTable) return;\n",
              "\n",
              "          const docLinkHtml = 'Like what you see? Visit the ' +\n",
              "            '<a target=\"_blank\" href=https://colab.research.google.com/notebooks/data_table.ipynb>data table notebook</a>'\n",
              "            + ' to learn more about interactive tables.';\n",
              "          element.innerHTML = '';\n",
              "          dataTable['output_type'] = 'display_data';\n",
              "          await google.colab.output.renderOutput(dataTable, element);\n",
              "          const docLink = document.createElement('div');\n",
              "          docLink.innerHTML = docLinkHtml;\n",
              "          element.appendChild(docLink);\n",
              "        }\n",
              "      </script>\n",
              "    </div>\n",
              "  </div>\n",
              "  "
            ]
          },
          "metadata": {},
          "execution_count": 17
        }
      ]
    },
    {
      "cell_type": "markdown",
      "source": [
        "# Using the sliding window to generate more samples"
      ],
      "metadata": {
        "id": "mJaI3OuLllUM"
      }
    },
    {
      "cell_type": "code",
      "source": [
        "#A customized function to build sequences by taking the window size and the stride length as arguments \n",
        "def build_sequences(df, window=36, stride=36):\n",
        "    # Sanity check to avoid runtime errors\n",
        "    assert window % stride == 0\n",
        "    dataset = []\n",
        "    labels = []\n",
        "    for lab in range(0,12):\n",
        "        # Take only meaningful features\n",
        "        temp = df_x[df_x['label'] == lab][['f1','f2','f3','f4','f5','f6']].values\n",
        "        # Compute padding length\n",
        "        padding_len = len(temp)%window\n",
        "        # Create padding and concatenate it\n",
        "        padding = np.zeros((padding_len,6), dtype='float64')\n",
        "        temp = np.concatenate((temp,padding))\n",
        "        # Build features windows with their corresponging labels\n",
        "        idx = 0\n",
        "        while idx+window <= len(temp):\n",
        "            dataset.append(temp[idx:idx+window])\n",
        "            labels.append(lab)\n",
        "            idx += stride\n",
        "    dataset = np.array(dataset)\n",
        "    labels = np.array(labels)\n",
        "    return dataset, labels"
      ],
      "metadata": {
        "id": "8VdG_MxlmsfY"
      },
      "execution_count": 18,
      "outputs": []
    },
    {
      "cell_type": "code",
      "source": [
        "#Creating sequences with the a window size of 36 and a stride of 12\n",
        "x,y = build_sequences(df_x, window=36, stride=12)"
      ],
      "metadata": {
        "id": "QG_pfBVk09Jt"
      },
      "execution_count": 19,
      "outputs": []
    },
    {
      "cell_type": "markdown",
      "source": [
        "# Splitting the dataset"
      ],
      "metadata": {
        "id": "-R7TmVxvmB-w"
      }
    },
    {
      "cell_type": "code",
      "source": [
        "#One hot encoding to transform the labels into categorical data\n",
        "y = tfk.utils.to_categorical(y)"
      ],
      "metadata": {
        "id": "ZVbE_csYcuMW"
      },
      "execution_count": 20,
      "outputs": []
    },
    {
      "cell_type": "code",
      "source": [
        "x_train, x_val, y_train, y_val = train_test_split(x, y, test_size=0.2)"
      ],
      "metadata": {
        "id": "5RzOzj3LayiX"
      },
      "execution_count": 21,
      "outputs": []
    },
    {
      "cell_type": "code",
      "source": [
        "x_train.shape, x_val.shape, y_train.shape, y_val.shape"
      ],
      "metadata": {
        "colab": {
          "base_uri": "https://localhost:8080/"
        },
        "id": "5LoB5O3aaype",
        "outputId": "9d3ec9f2-b304-4ae9-9e98-f045bb1b7778"
      },
      "execution_count": 22,
      "outputs": [
        {
          "output_type": "execute_result",
          "data": {
            "text/plain": [
              "((5810, 36, 6), (1453, 36, 6), (5810, 12), (1453, 12))"
            ]
          },
          "metadata": {},
          "execution_count": 22
        }
      ]
    },
    {
      "cell_type": "code",
      "source": [
        "input_shape = x.shape[1:]\n",
        "classes = y.shape[-1]\n",
        "batch_size = 256\n",
        "epochs = 300\n",
        "print ('input shape:',input_shape,', classes:', classes)"
      ],
      "metadata": {
        "colab": {
          "base_uri": "https://localhost:8080/"
        },
        "id": "HOrunoYd2D6i",
        "outputId": "f2802078-8428-4eb9-8a4e-4851f9eb8f35"
      },
      "execution_count": 23,
      "outputs": [
        {
          "output_type": "stream",
          "name": "stdout",
          "text": [
            "input shape: (36, 6) , classes: 12\n"
          ]
        }
      ]
    },
    {
      "cell_type": "markdown",
      "source": [
        "#1D Convolutional Neural Network"
      ],
      "metadata": {
        "id": "2lBXXDLh4j9T"
      }
    },
    {
      "cell_type": "code",
      "metadata": {
        "id": "7nxJrPoojt3z"
      },
      "source": [
        "def build_1DCNN_classifier(input_shape, classes):\n",
        "    # Build the neural network layer by layer\n",
        "    input_layer = tfkl.Input(shape=input_shape, name='Input')\n",
        "\n",
        "    # Feature extractor\n",
        "    cnn = tfkl.Conv1D(512,3,padding='same',activation='relu')(input_layer)\n",
        "    cnn = tfkl.MaxPooling1D()(cnn)\n",
        "    cnn = tfkl.Conv1D(512,3,padding='same',activation='relu')(cnn)\n",
        "    gap = tfkl.GlobalAveragePooling1D()(cnn)\n",
        "    dropout = tfkl.Dropout(.5, seed=seed)(gap)\n",
        "\n",
        "    # Classifier\n",
        "    classifier = tfkl.Dense(512, activation='relu')(dropout)\n",
        "    output_layer = tfkl.Dense(classes, activation='softmax')(classifier)\n",
        "\n",
        "    # Connect input and output through the Model class\n",
        "    model = tfk.Model(inputs=input_layer, outputs=output_layer, name='model')\n",
        "\n",
        "    # Compile the model\n",
        "    model.compile(loss=tfk.losses.CategoricalCrossentropy(), optimizer=tfk.optimizers.Adam(), metrics='accuracy')\n",
        "\n",
        "    # Return the model\n",
        "    return model"
      ],
      "execution_count": 24,
      "outputs": []
    },
    {
      "cell_type": "code",
      "source": [
        "model = build_1DCNN_classifier(input_shape, classes)\n",
        "model.summary()"
      ],
      "metadata": {
        "colab": {
          "base_uri": "https://localhost:8080/"
        },
        "id": "bmzlkI3d4mql",
        "outputId": "b74b9b5f-3704-4585-8ac7-05607d7a8d40"
      },
      "execution_count": 25,
      "outputs": [
        {
          "output_type": "stream",
          "name": "stdout",
          "text": [
            "Model: \"model\"\n",
            "_________________________________________________________________\n",
            " Layer (type)                Output Shape              Param #   \n",
            "=================================================================\n",
            " Input (InputLayer)          [(None, 36, 6)]           0         \n",
            "                                                                 \n",
            " conv1d (Conv1D)             (None, 36, 512)           9728      \n",
            "                                                                 \n",
            " max_pooling1d (MaxPooling1D  (None, 18, 512)          0         \n",
            " )                                                               \n",
            "                                                                 \n",
            " conv1d_1 (Conv1D)           (None, 18, 512)           786944    \n",
            "                                                                 \n",
            " global_average_pooling1d (G  (None, 512)              0         \n",
            " lobalAveragePooling1D)                                          \n",
            "                                                                 \n",
            " dropout (Dropout)           (None, 512)               0         \n",
            "                                                                 \n",
            " dense (Dense)               (None, 512)               262656    \n",
            "                                                                 \n",
            " dense_1 (Dense)             (None, 12)                6156      \n",
            "                                                                 \n",
            "=================================================================\n",
            "Total params: 1,065,484\n",
            "Trainable params: 1,065,484\n",
            "Non-trainable params: 0\n",
            "_________________________________________________________________\n"
          ]
        }
      ]
    },
    {
      "cell_type": "code",
      "source": [
        "# Train the model\n",
        "history = model.fit(\n",
        "    x = x_train,\n",
        "    y = y_train,\n",
        "    batch_size = batch_size,\n",
        "    epochs = epochs,\n",
        "    validation_data=(x_val, y_val),\n",
        "    callbacks = [\n",
        "        tfk.callbacks.EarlyStopping(monitor='val_accuracy', mode='max', patience=30, restore_best_weights=True),\n",
        "        tfk.callbacks.ReduceLROnPlateau(monitor='val_accuracy', mode='max', patience=10, factor=0.5, min_lr=1e-6)\n",
        "    ]\n",
        ").history"
      ],
      "metadata": {
        "colab": {
          "base_uri": "https://localhost:8080/"
        },
        "id": "xpO0ypgJ4oOl",
        "outputId": "9cc05545-09be-467a-a0c3-5a3946aff05b"
      },
      "execution_count": 26,
      "outputs": [
        {
          "output_type": "stream",
          "name": "stdout",
          "text": [
            "Epoch 1/300\n",
            "23/23 [==============================] - 11s 60ms/step - loss: 3.4065 - accuracy: 0.2198 - val_loss: 2.4041 - val_accuracy: 0.2746 - lr: 0.0010\n",
            "Epoch 2/300\n",
            "23/23 [==============================] - 0s 15ms/step - loss: 2.4867 - accuracy: 0.3790 - val_loss: 1.9597 - val_accuracy: 0.4501 - lr: 0.0010\n",
            "Epoch 3/300\n",
            "23/23 [==============================] - 0s 14ms/step - loss: 2.0574 - accuracy: 0.4349 - val_loss: 1.8115 - val_accuracy: 0.4591 - lr: 0.0010\n",
            "Epoch 4/300\n",
            "23/23 [==============================] - 0s 14ms/step - loss: 1.8459 - accuracy: 0.4570 - val_loss: 1.6679 - val_accuracy: 0.4721 - lr: 0.0010\n",
            "Epoch 5/300\n",
            "23/23 [==============================] - 0s 14ms/step - loss: 1.6768 - accuracy: 0.4750 - val_loss: 1.5089 - val_accuracy: 0.4886 - lr: 0.0010\n",
            "Epoch 6/300\n",
            "23/23 [==============================] - 0s 16ms/step - loss: 1.5745 - accuracy: 0.4976 - val_loss: 1.5339 - val_accuracy: 0.4797 - lr: 0.0010\n",
            "Epoch 7/300\n",
            "23/23 [==============================] - 0s 14ms/step - loss: 1.5158 - accuracy: 0.5133 - val_loss: 1.4028 - val_accuracy: 0.5224 - lr: 0.0010\n",
            "Epoch 8/300\n",
            "23/23 [==============================] - 0s 16ms/step - loss: 1.4167 - accuracy: 0.5478 - val_loss: 1.3239 - val_accuracy: 0.5451 - lr: 0.0010\n",
            "Epoch 9/300\n",
            "23/23 [==============================] - 0s 14ms/step - loss: 1.4371 - accuracy: 0.5503 - val_loss: 1.2892 - val_accuracy: 0.5609 - lr: 0.0010\n",
            "Epoch 10/300\n",
            "23/23 [==============================] - 0s 14ms/step - loss: 1.3767 - accuracy: 0.5618 - val_loss: 1.2970 - val_accuracy: 0.5685 - lr: 0.0010\n",
            "Epoch 11/300\n",
            "23/23 [==============================] - 0s 15ms/step - loss: 1.3361 - accuracy: 0.5647 - val_loss: 1.2787 - val_accuracy: 0.5657 - lr: 0.0010\n",
            "Epoch 12/300\n",
            "23/23 [==============================] - 0s 14ms/step - loss: 1.3273 - accuracy: 0.5711 - val_loss: 1.2156 - val_accuracy: 0.5967 - lr: 0.0010\n",
            "Epoch 13/300\n",
            "23/23 [==============================] - 0s 14ms/step - loss: 1.2722 - accuracy: 0.5862 - val_loss: 1.2524 - val_accuracy: 0.5788 - lr: 0.0010\n",
            "Epoch 14/300\n",
            "23/23 [==============================] - 0s 16ms/step - loss: 1.2552 - accuracy: 0.5935 - val_loss: 1.2329 - val_accuracy: 0.5974 - lr: 0.0010\n",
            "Epoch 15/300\n",
            "23/23 [==============================] - 0s 14ms/step - loss: 1.2554 - accuracy: 0.5988 - val_loss: 1.2254 - val_accuracy: 0.5836 - lr: 0.0010\n",
            "Epoch 16/300\n",
            "23/23 [==============================] - 0s 14ms/step - loss: 1.2196 - accuracy: 0.6072 - val_loss: 1.1403 - val_accuracy: 0.6173 - lr: 0.0010\n",
            "Epoch 17/300\n",
            "23/23 [==============================] - 0s 15ms/step - loss: 1.2053 - accuracy: 0.6055 - val_loss: 1.1596 - val_accuracy: 0.6139 - lr: 0.0010\n",
            "Epoch 18/300\n",
            "23/23 [==============================] - 0s 14ms/step - loss: 1.1628 - accuracy: 0.6201 - val_loss: 1.1558 - val_accuracy: 0.6077 - lr: 0.0010\n",
            "Epoch 19/300\n",
            "23/23 [==============================] - 0s 14ms/step - loss: 1.1437 - accuracy: 0.6219 - val_loss: 1.0795 - val_accuracy: 0.6380 - lr: 0.0010\n",
            "Epoch 20/300\n",
            "23/23 [==============================] - 0s 14ms/step - loss: 1.1193 - accuracy: 0.6332 - val_loss: 1.1338 - val_accuracy: 0.6242 - lr: 0.0010\n",
            "Epoch 21/300\n",
            "23/23 [==============================] - 0s 16ms/step - loss: 1.1508 - accuracy: 0.6287 - val_loss: 1.1306 - val_accuracy: 0.6256 - lr: 0.0010\n",
            "Epoch 22/300\n",
            "23/23 [==============================] - 0s 16ms/step - loss: 1.1216 - accuracy: 0.6263 - val_loss: 1.0890 - val_accuracy: 0.6442 - lr: 0.0010\n",
            "Epoch 23/300\n",
            "23/23 [==============================] - 0s 16ms/step - loss: 1.0927 - accuracy: 0.6391 - val_loss: 1.0545 - val_accuracy: 0.6449 - lr: 0.0010\n",
            "Epoch 24/300\n",
            "23/23 [==============================] - 0s 15ms/step - loss: 1.1027 - accuracy: 0.6377 - val_loss: 1.0503 - val_accuracy: 0.6373 - lr: 0.0010\n",
            "Epoch 25/300\n",
            "23/23 [==============================] - 0s 16ms/step - loss: 1.0833 - accuracy: 0.6434 - val_loss: 1.0080 - val_accuracy: 0.6504 - lr: 0.0010\n",
            "Epoch 26/300\n",
            "23/23 [==============================] - 0s 14ms/step - loss: 1.0676 - accuracy: 0.6520 - val_loss: 1.0469 - val_accuracy: 0.6366 - lr: 0.0010\n",
            "Epoch 27/300\n",
            "23/23 [==============================] - 0s 15ms/step - loss: 1.0379 - accuracy: 0.6577 - val_loss: 1.0290 - val_accuracy: 0.6442 - lr: 0.0010\n",
            "Epoch 28/300\n",
            "23/23 [==============================] - 0s 14ms/step - loss: 1.0179 - accuracy: 0.6582 - val_loss: 0.9905 - val_accuracy: 0.6635 - lr: 0.0010\n",
            "Epoch 29/300\n",
            "23/23 [==============================] - 0s 14ms/step - loss: 0.9953 - accuracy: 0.6701 - val_loss: 0.9794 - val_accuracy: 0.6621 - lr: 0.0010\n",
            "Epoch 30/300\n",
            "23/23 [==============================] - 0s 14ms/step - loss: 0.9825 - accuracy: 0.6670 - val_loss: 0.9953 - val_accuracy: 0.6607 - lr: 0.0010\n",
            "Epoch 31/300\n",
            "23/23 [==============================] - 0s 14ms/step - loss: 0.9690 - accuracy: 0.6793 - val_loss: 1.0052 - val_accuracy: 0.6648 - lr: 0.0010\n",
            "Epoch 32/300\n",
            "23/23 [==============================] - 0s 16ms/step - loss: 1.0128 - accuracy: 0.6656 - val_loss: 1.0392 - val_accuracy: 0.6648 - lr: 0.0010\n",
            "Epoch 33/300\n",
            "23/23 [==============================] - 0s 14ms/step - loss: 0.9804 - accuracy: 0.6738 - val_loss: 1.0704 - val_accuracy: 0.6538 - lr: 0.0010\n",
            "Epoch 34/300\n",
            "23/23 [==============================] - 0s 16ms/step - loss: 1.0299 - accuracy: 0.6678 - val_loss: 0.9726 - val_accuracy: 0.6752 - lr: 0.0010\n",
            "Epoch 35/300\n",
            "23/23 [==============================] - 0s 16ms/step - loss: 1.1116 - accuracy: 0.6468 - val_loss: 1.0854 - val_accuracy: 0.6442 - lr: 0.0010\n",
            "Epoch 36/300\n",
            "23/23 [==============================] - 0s 14ms/step - loss: 1.0687 - accuracy: 0.6542 - val_loss: 0.9901 - val_accuracy: 0.6662 - lr: 0.0010\n",
            "Epoch 37/300\n",
            "23/23 [==============================] - 0s 16ms/step - loss: 0.9902 - accuracy: 0.6699 - val_loss: 0.9149 - val_accuracy: 0.6855 - lr: 0.0010\n",
            "Epoch 38/300\n",
            "23/23 [==============================] - 0s 14ms/step - loss: 0.9456 - accuracy: 0.6826 - val_loss: 0.9075 - val_accuracy: 0.6896 - lr: 0.0010\n",
            "Epoch 39/300\n",
            "23/23 [==============================] - 0s 15ms/step - loss: 0.9216 - accuracy: 0.6905 - val_loss: 0.9023 - val_accuracy: 0.6813 - lr: 0.0010\n",
            "Epoch 40/300\n",
            "23/23 [==============================] - 0s 14ms/step - loss: 0.9621 - accuracy: 0.6814 - val_loss: 0.9711 - val_accuracy: 0.6745 - lr: 0.0010\n",
            "Epoch 41/300\n",
            "23/23 [==============================] - 0s 14ms/step - loss: 0.9488 - accuracy: 0.6819 - val_loss: 0.9304 - val_accuracy: 0.6937 - lr: 0.0010\n",
            "Epoch 42/300\n",
            "23/23 [==============================] - 0s 14ms/step - loss: 0.9750 - accuracy: 0.6769 - val_loss: 0.9244 - val_accuracy: 0.6669 - lr: 0.0010\n",
            "Epoch 43/300\n",
            "23/23 [==============================] - 0s 14ms/step - loss: 0.9426 - accuracy: 0.6885 - val_loss: 0.8957 - val_accuracy: 0.6917 - lr: 0.0010\n",
            "Epoch 44/300\n",
            "23/23 [==============================] - 0s 16ms/step - loss: 0.9043 - accuracy: 0.6943 - val_loss: 0.8808 - val_accuracy: 0.7054 - lr: 0.0010\n",
            "Epoch 45/300\n",
            "23/23 [==============================] - 0s 14ms/step - loss: 0.8727 - accuracy: 0.7041 - val_loss: 0.8893 - val_accuracy: 0.6951 - lr: 0.0010\n",
            "Epoch 46/300\n",
            "23/23 [==============================] - 0s 15ms/step - loss: 0.8823 - accuracy: 0.7062 - val_loss: 0.8577 - val_accuracy: 0.6937 - lr: 0.0010\n",
            "Epoch 47/300\n",
            "23/23 [==============================] - 0s 14ms/step - loss: 0.9003 - accuracy: 0.7002 - val_loss: 0.9480 - val_accuracy: 0.6738 - lr: 0.0010\n",
            "Epoch 48/300\n",
            "23/23 [==============================] - 0s 14ms/step - loss: 0.9593 - accuracy: 0.6845 - val_loss: 0.9484 - val_accuracy: 0.6655 - lr: 0.0010\n",
            "Epoch 49/300\n",
            "23/23 [==============================] - 0s 15ms/step - loss: 0.9695 - accuracy: 0.6811 - val_loss: 0.8807 - val_accuracy: 0.6903 - lr: 0.0010\n",
            "Epoch 50/300\n",
            "23/23 [==============================] - 0s 16ms/step - loss: 0.9014 - accuracy: 0.6962 - val_loss: 0.8622 - val_accuracy: 0.6986 - lr: 0.0010\n",
            "Epoch 51/300\n",
            "23/23 [==============================] - 0s 14ms/step - loss: 0.8547 - accuracy: 0.7071 - val_loss: 0.8331 - val_accuracy: 0.7096 - lr: 0.0010\n",
            "Epoch 52/300\n",
            "23/23 [==============================] - 0s 14ms/step - loss: 0.8409 - accuracy: 0.7117 - val_loss: 0.8308 - val_accuracy: 0.7109 - lr: 0.0010\n",
            "Epoch 53/300\n",
            "23/23 [==============================] - 0s 16ms/step - loss: 0.8170 - accuracy: 0.7225 - val_loss: 0.8180 - val_accuracy: 0.7199 - lr: 0.0010\n",
            "Epoch 54/300\n",
            "23/23 [==============================] - 0s 15ms/step - loss: 0.8070 - accuracy: 0.7272 - val_loss: 0.8342 - val_accuracy: 0.7144 - lr: 0.0010\n",
            "Epoch 55/300\n",
            "23/23 [==============================] - 0s 14ms/step - loss: 0.7938 - accuracy: 0.7248 - val_loss: 0.7954 - val_accuracy: 0.7295 - lr: 0.0010\n",
            "Epoch 56/300\n",
            "23/23 [==============================] - 0s 15ms/step - loss: 0.8061 - accuracy: 0.7324 - val_loss: 0.8091 - val_accuracy: 0.7302 - lr: 0.0010\n",
            "Epoch 57/300\n",
            "23/23 [==============================] - 0s 15ms/step - loss: 0.7827 - accuracy: 0.7291 - val_loss: 0.8717 - val_accuracy: 0.7096 - lr: 0.0010\n",
            "Epoch 58/300\n",
            "23/23 [==============================] - 0s 16ms/step - loss: 0.7889 - accuracy: 0.7334 - val_loss: 0.7944 - val_accuracy: 0.7343 - lr: 0.0010\n",
            "Epoch 59/300\n",
            "23/23 [==============================] - 0s 14ms/step - loss: 0.7603 - accuracy: 0.7429 - val_loss: 0.7744 - val_accuracy: 0.7364 - lr: 0.0010\n",
            "Epoch 60/300\n",
            "23/23 [==============================] - 0s 15ms/step - loss: 0.7316 - accuracy: 0.7525 - val_loss: 0.7747 - val_accuracy: 0.7316 - lr: 0.0010\n",
            "Epoch 61/300\n",
            "23/23 [==============================] - 0s 15ms/step - loss: 0.7415 - accuracy: 0.7501 - val_loss: 0.7716 - val_accuracy: 0.7385 - lr: 0.0010\n",
            "Epoch 62/300\n",
            "23/23 [==============================] - 0s 14ms/step - loss: 0.7342 - accuracy: 0.7537 - val_loss: 0.7670 - val_accuracy: 0.7398 - lr: 0.0010\n",
            "Epoch 63/300\n",
            "23/23 [==============================] - 0s 14ms/step - loss: 0.7571 - accuracy: 0.7417 - val_loss: 0.7669 - val_accuracy: 0.7460 - lr: 0.0010\n",
            "Epoch 64/300\n",
            "23/23 [==============================] - 0s 16ms/step - loss: 0.7873 - accuracy: 0.7373 - val_loss: 0.8208 - val_accuracy: 0.7268 - lr: 0.0010\n",
            "Epoch 65/300\n",
            "23/23 [==============================] - 0s 16ms/step - loss: 0.7491 - accuracy: 0.7408 - val_loss: 0.7686 - val_accuracy: 0.7412 - lr: 0.0010\n",
            "Epoch 66/300\n",
            "23/23 [==============================] - 0s 14ms/step - loss: 0.7330 - accuracy: 0.7525 - val_loss: 0.7653 - val_accuracy: 0.7378 - lr: 0.0010\n",
            "Epoch 67/300\n",
            "23/23 [==============================] - 0s 14ms/step - loss: 0.7530 - accuracy: 0.7448 - val_loss: 0.8084 - val_accuracy: 0.7220 - lr: 0.0010\n",
            "Epoch 68/300\n",
            "23/23 [==============================] - 0s 14ms/step - loss: 0.7529 - accuracy: 0.7435 - val_loss: 0.7794 - val_accuracy: 0.7295 - lr: 0.0010\n",
            "Epoch 69/300\n",
            "23/23 [==============================] - 0s 14ms/step - loss: 0.7696 - accuracy: 0.7485 - val_loss: 0.7808 - val_accuracy: 0.7392 - lr: 0.0010\n",
            "Epoch 70/300\n",
            "23/23 [==============================] - 0s 16ms/step - loss: 0.7352 - accuracy: 0.7454 - val_loss: 0.7461 - val_accuracy: 0.7509 - lr: 0.0010\n",
            "Epoch 71/300\n",
            "23/23 [==============================] - 0s 14ms/step - loss: 0.7082 - accuracy: 0.7680 - val_loss: 0.7383 - val_accuracy: 0.7529 - lr: 0.0010\n",
            "Epoch 72/300\n",
            "23/23 [==============================] - 0s 14ms/step - loss: 0.8121 - accuracy: 0.7454 - val_loss: 0.7672 - val_accuracy: 0.7371 - lr: 0.0010\n",
            "Epoch 73/300\n",
            "23/23 [==============================] - 0s 14ms/step - loss: 0.7090 - accuracy: 0.7552 - val_loss: 0.7323 - val_accuracy: 0.7536 - lr: 0.0010\n",
            "Epoch 74/300\n",
            "23/23 [==============================] - 0s 14ms/step - loss: 0.6908 - accuracy: 0.7642 - val_loss: 0.7066 - val_accuracy: 0.7598 - lr: 0.0010\n",
            "Epoch 75/300\n",
            "23/23 [==============================] - 0s 14ms/step - loss: 0.6813 - accuracy: 0.7659 - val_loss: 0.8028 - val_accuracy: 0.7123 - lr: 0.0010\n",
            "Epoch 76/300\n",
            "23/23 [==============================] - 0s 15ms/step - loss: 0.7380 - accuracy: 0.7430 - val_loss: 0.7583 - val_accuracy: 0.7426 - lr: 0.0010\n",
            "Epoch 77/300\n",
            "23/23 [==============================] - 0s 14ms/step - loss: 0.7283 - accuracy: 0.7563 - val_loss: 0.7238 - val_accuracy: 0.7495 - lr: 0.0010\n",
            "Epoch 78/300\n",
            "23/23 [==============================] - 0s 16ms/step - loss: 0.6881 - accuracy: 0.7733 - val_loss: 0.7182 - val_accuracy: 0.7612 - lr: 0.0010\n",
            "Epoch 79/300\n",
            "23/23 [==============================] - 0s 14ms/step - loss: 0.6759 - accuracy: 0.7649 - val_loss: 0.6926 - val_accuracy: 0.7701 - lr: 0.0010\n",
            "Epoch 80/300\n",
            "23/23 [==============================] - 0s 15ms/step - loss: 0.6455 - accuracy: 0.7788 - val_loss: 0.6897 - val_accuracy: 0.7653 - lr: 0.0010\n",
            "Epoch 81/300\n",
            "23/23 [==============================] - 0s 16ms/step - loss: 0.6324 - accuracy: 0.7864 - val_loss: 0.7089 - val_accuracy: 0.7612 - lr: 0.0010\n",
            "Epoch 82/300\n",
            "23/23 [==============================] - 0s 14ms/step - loss: 0.6582 - accuracy: 0.7816 - val_loss: 0.6870 - val_accuracy: 0.7612 - lr: 0.0010\n",
            "Epoch 83/300\n",
            "23/23 [==============================] - 0s 14ms/step - loss: 0.6421 - accuracy: 0.7874 - val_loss: 0.7058 - val_accuracy: 0.7688 - lr: 0.0010\n",
            "Epoch 84/300\n",
            "23/23 [==============================] - 0s 14ms/step - loss: 0.6719 - accuracy: 0.7756 - val_loss: 0.6986 - val_accuracy: 0.7674 - lr: 0.0010\n",
            "Epoch 85/300\n",
            "23/23 [==============================] - 0s 16ms/step - loss: 0.6400 - accuracy: 0.7821 - val_loss: 0.6901 - val_accuracy: 0.7660 - lr: 0.0010\n",
            "Epoch 86/300\n",
            "23/23 [==============================] - 0s 14ms/step - loss: 0.6132 - accuracy: 0.7916 - val_loss: 0.6823 - val_accuracy: 0.7784 - lr: 0.0010\n",
            "Epoch 87/300\n",
            "23/23 [==============================] - 0s 16ms/step - loss: 0.6478 - accuracy: 0.7845 - val_loss: 0.6953 - val_accuracy: 0.7681 - lr: 0.0010\n",
            "Epoch 88/300\n",
            "23/23 [==============================] - 0s 15ms/step - loss: 0.6295 - accuracy: 0.7905 - val_loss: 0.6884 - val_accuracy: 0.7708 - lr: 0.0010\n",
            "Epoch 89/300\n",
            "23/23 [==============================] - 0s 14ms/step - loss: 0.6448 - accuracy: 0.7893 - val_loss: 0.7494 - val_accuracy: 0.7509 - lr: 0.0010\n",
            "Epoch 90/300\n",
            "23/23 [==============================] - 0s 15ms/step - loss: 0.6848 - accuracy: 0.7728 - val_loss: 0.6737 - val_accuracy: 0.7701 - lr: 0.0010\n",
            "Epoch 91/300\n",
            "23/23 [==============================] - 0s 15ms/step - loss: 0.6182 - accuracy: 0.7909 - val_loss: 0.6707 - val_accuracy: 0.7763 - lr: 0.0010\n",
            "Epoch 92/300\n",
            "23/23 [==============================] - 0s 14ms/step - loss: 0.6194 - accuracy: 0.7923 - val_loss: 0.6950 - val_accuracy: 0.7722 - lr: 0.0010\n",
            "Epoch 93/300\n",
            "23/23 [==============================] - 0s 14ms/step - loss: 0.5873 - accuracy: 0.8015 - val_loss: 0.6595 - val_accuracy: 0.7715 - lr: 0.0010\n",
            "Epoch 94/300\n",
            "23/23 [==============================] - 0s 16ms/step - loss: 0.5772 - accuracy: 0.8064 - val_loss: 0.6272 - val_accuracy: 0.7908 - lr: 0.0010\n",
            "Epoch 95/300\n",
            "23/23 [==============================] - 0s 16ms/step - loss: 0.5595 - accuracy: 0.8086 - val_loss: 0.6204 - val_accuracy: 0.7866 - lr: 0.0010\n",
            "Epoch 96/300\n",
            "23/23 [==============================] - 0s 14ms/step - loss: 0.5519 - accuracy: 0.8079 - val_loss: 0.6298 - val_accuracy: 0.7901 - lr: 0.0010\n",
            "Epoch 97/300\n",
            "23/23 [==============================] - 0s 14ms/step - loss: 0.5344 - accuracy: 0.8208 - val_loss: 0.6238 - val_accuracy: 0.7860 - lr: 0.0010\n",
            "Epoch 98/300\n",
            "23/23 [==============================] - 0s 16ms/step - loss: 0.5355 - accuracy: 0.8229 - val_loss: 0.6496 - val_accuracy: 0.7860 - lr: 0.0010\n",
            "Epoch 99/300\n",
            "23/23 [==============================] - 0s 16ms/step - loss: 0.5221 - accuracy: 0.8253 - val_loss: 0.6212 - val_accuracy: 0.7901 - lr: 0.0010\n",
            "Epoch 100/300\n",
            "23/23 [==============================] - 0s 15ms/step - loss: 0.5376 - accuracy: 0.8258 - val_loss: 0.6206 - val_accuracy: 0.7928 - lr: 0.0010\n",
            "Epoch 101/300\n",
            "23/23 [==============================] - 0s 14ms/step - loss: 0.5623 - accuracy: 0.8069 - val_loss: 0.6622 - val_accuracy: 0.7832 - lr: 0.0010\n",
            "Epoch 102/300\n",
            "23/23 [==============================] - 0s 16ms/step - loss: 0.5866 - accuracy: 0.8076 - val_loss: 0.6328 - val_accuracy: 0.7873 - lr: 0.0010\n",
            "Epoch 103/300\n",
            "23/23 [==============================] - 0s 16ms/step - loss: 0.5662 - accuracy: 0.8095 - val_loss: 0.6171 - val_accuracy: 0.7977 - lr: 0.0010\n",
            "Epoch 104/300\n",
            "23/23 [==============================] - 0s 16ms/step - loss: 0.5537 - accuracy: 0.8143 - val_loss: 0.6179 - val_accuracy: 0.7901 - lr: 0.0010\n",
            "Epoch 105/300\n",
            "23/23 [==============================] - 0s 16ms/step - loss: 0.5402 - accuracy: 0.8251 - val_loss: 0.6658 - val_accuracy: 0.7736 - lr: 0.0010\n",
            "Epoch 106/300\n",
            "23/23 [==============================] - 0s 14ms/step - loss: 0.5821 - accuracy: 0.8055 - val_loss: 0.6234 - val_accuracy: 0.7880 - lr: 0.0010\n",
            "Epoch 107/300\n",
            "23/23 [==============================] - 0s 14ms/step - loss: 0.5805 - accuracy: 0.8050 - val_loss: 0.6228 - val_accuracy: 0.7901 - lr: 0.0010\n",
            "Epoch 108/300\n",
            "23/23 [==============================] - 0s 14ms/step - loss: 0.5446 - accuracy: 0.8158 - val_loss: 0.6013 - val_accuracy: 0.7977 - lr: 0.0010\n",
            "Epoch 109/300\n",
            "23/23 [==============================] - 0s 14ms/step - loss: 0.6541 - accuracy: 0.8000 - val_loss: 0.6715 - val_accuracy: 0.7839 - lr: 0.0010\n",
            "Epoch 110/300\n",
            "23/23 [==============================] - 0s 15ms/step - loss: 0.7027 - accuracy: 0.7838 - val_loss: 0.6825 - val_accuracy: 0.7729 - lr: 0.0010\n",
            "Epoch 111/300\n",
            "23/23 [==============================] - 0s 14ms/step - loss: 0.6248 - accuracy: 0.7940 - val_loss: 0.6549 - val_accuracy: 0.7935 - lr: 0.0010\n",
            "Epoch 112/300\n",
            "23/23 [==============================] - 0s 16ms/step - loss: 0.5726 - accuracy: 0.8045 - val_loss: 0.6284 - val_accuracy: 0.7866 - lr: 0.0010\n",
            "Epoch 113/300\n",
            "23/23 [==============================] - 0s 16ms/step - loss: 0.5430 - accuracy: 0.8231 - val_loss: 0.5809 - val_accuracy: 0.8059 - lr: 0.0010\n",
            "Epoch 114/300\n",
            "23/23 [==============================] - 0s 16ms/step - loss: 0.5457 - accuracy: 0.8198 - val_loss: 0.6398 - val_accuracy: 0.7860 - lr: 0.0010\n",
            "Epoch 115/300\n",
            "23/23 [==============================] - 0s 16ms/step - loss: 0.5548 - accuracy: 0.8155 - val_loss: 0.6314 - val_accuracy: 0.7983 - lr: 0.0010\n",
            "Epoch 116/300\n",
            "23/23 [==============================] - 0s 16ms/step - loss: 0.5250 - accuracy: 0.8224 - val_loss: 0.5844 - val_accuracy: 0.8039 - lr: 0.0010\n",
            "Epoch 117/300\n",
            "23/23 [==============================] - 0s 14ms/step - loss: 0.5159 - accuracy: 0.8281 - val_loss: 0.6030 - val_accuracy: 0.7935 - lr: 0.0010\n",
            "Epoch 118/300\n",
            "23/23 [==============================] - 0s 14ms/step - loss: 0.5138 - accuracy: 0.8327 - val_loss: 0.5778 - val_accuracy: 0.8080 - lr: 0.0010\n",
            "Epoch 119/300\n",
            "23/23 [==============================] - 0s 14ms/step - loss: 0.4760 - accuracy: 0.8334 - val_loss: 0.5594 - val_accuracy: 0.8149 - lr: 0.0010\n",
            "Epoch 120/300\n",
            "23/23 [==============================] - 0s 15ms/step - loss: 0.4707 - accuracy: 0.8468 - val_loss: 0.6249 - val_accuracy: 0.8052 - lr: 0.0010\n",
            "Epoch 121/300\n",
            "23/23 [==============================] - 0s 16ms/step - loss: 0.5189 - accuracy: 0.8284 - val_loss: 0.5966 - val_accuracy: 0.8135 - lr: 0.0010\n",
            "Epoch 122/300\n",
            "23/23 [==============================] - 0s 15ms/step - loss: 0.4920 - accuracy: 0.8375 - val_loss: 0.6411 - val_accuracy: 0.8169 - lr: 0.0010\n",
            "Epoch 123/300\n",
            "23/23 [==============================] - 0s 14ms/step - loss: 0.5122 - accuracy: 0.8387 - val_loss: 0.5846 - val_accuracy: 0.8107 - lr: 0.0010\n",
            "Epoch 124/300\n",
            "23/23 [==============================] - 0s 14ms/step - loss: 0.4817 - accuracy: 0.8384 - val_loss: 0.6128 - val_accuracy: 0.8114 - lr: 0.0010\n",
            "Epoch 125/300\n",
            "23/23 [==============================] - 0s 16ms/step - loss: 0.4674 - accuracy: 0.8434 - val_loss: 0.5626 - val_accuracy: 0.8197 - lr: 0.0010\n",
            "Epoch 126/300\n",
            "23/23 [==============================] - 0s 15ms/step - loss: 0.4429 - accuracy: 0.8546 - val_loss: 0.5452 - val_accuracy: 0.8266 - lr: 0.0010\n",
            "Epoch 127/300\n",
            "23/23 [==============================] - 0s 15ms/step - loss: 0.4350 - accuracy: 0.8537 - val_loss: 0.5345 - val_accuracy: 0.8307 - lr: 0.0010\n",
            "Epoch 128/300\n",
            "23/23 [==============================] - 0s 14ms/step - loss: 0.4312 - accuracy: 0.8587 - val_loss: 0.5289 - val_accuracy: 0.8259 - lr: 0.0010\n",
            "Epoch 129/300\n",
            "23/23 [==============================] - 0s 14ms/step - loss: 0.4293 - accuracy: 0.8547 - val_loss: 0.5371 - val_accuracy: 0.8197 - lr: 0.0010\n",
            "Epoch 130/300\n",
            "23/23 [==============================] - 0s 16ms/step - loss: 0.4183 - accuracy: 0.8609 - val_loss: 0.5344 - val_accuracy: 0.8245 - lr: 0.0010\n",
            "Epoch 131/300\n",
            "23/23 [==============================] - 0s 15ms/step - loss: 0.4116 - accuracy: 0.8632 - val_loss: 0.5304 - val_accuracy: 0.8266 - lr: 0.0010\n",
            "Epoch 132/300\n",
            "23/23 [==============================] - 0s 16ms/step - loss: 0.3944 - accuracy: 0.8702 - val_loss: 0.5449 - val_accuracy: 0.8217 - lr: 0.0010\n",
            "Epoch 133/300\n",
            "23/23 [==============================] - 0s 15ms/step - loss: 0.4717 - accuracy: 0.8508 - val_loss: 0.5962 - val_accuracy: 0.8059 - lr: 0.0010\n",
            "Epoch 134/300\n",
            "23/23 [==============================] - 0s 15ms/step - loss: 0.4685 - accuracy: 0.8515 - val_loss: 0.6474 - val_accuracy: 0.7949 - lr: 0.0010\n",
            "Epoch 135/300\n",
            "23/23 [==============================] - 0s 14ms/step - loss: 0.4350 - accuracy: 0.8520 - val_loss: 0.5363 - val_accuracy: 0.8314 - lr: 0.0010\n",
            "Epoch 136/300\n",
            "23/23 [==============================] - 0s 16ms/step - loss: 0.4109 - accuracy: 0.8614 - val_loss: 0.5425 - val_accuracy: 0.8224 - lr: 0.0010\n",
            "Epoch 137/300\n",
            "23/23 [==============================] - 0s 15ms/step - loss: 0.3964 - accuracy: 0.8682 - val_loss: 0.5118 - val_accuracy: 0.8321 - lr: 0.0010\n",
            "Epoch 138/300\n",
            "23/23 [==============================] - 0s 14ms/step - loss: 0.3761 - accuracy: 0.8740 - val_loss: 0.5103 - val_accuracy: 0.8314 - lr: 0.0010\n",
            "Epoch 139/300\n",
            "23/23 [==============================] - 0s 16ms/step - loss: 0.3594 - accuracy: 0.8847 - val_loss: 0.5501 - val_accuracy: 0.8211 - lr: 0.0010\n",
            "Epoch 140/300\n",
            "23/23 [==============================] - 0s 15ms/step - loss: 0.3621 - accuracy: 0.8835 - val_loss: 0.4968 - val_accuracy: 0.8348 - lr: 0.0010\n",
            "Epoch 141/300\n",
            "23/23 [==============================] - 0s 14ms/step - loss: 0.3631 - accuracy: 0.8799 - val_loss: 0.5052 - val_accuracy: 0.8362 - lr: 0.0010\n",
            "Epoch 142/300\n",
            "23/23 [==============================] - 0s 14ms/step - loss: 0.3689 - accuracy: 0.8809 - val_loss: 0.5231 - val_accuracy: 0.8410 - lr: 0.0010\n",
            "Epoch 143/300\n",
            "23/23 [==============================] - 0s 16ms/step - loss: 0.4066 - accuracy: 0.8675 - val_loss: 0.5278 - val_accuracy: 0.8259 - lr: 0.0010\n",
            "Epoch 144/300\n",
            "23/23 [==============================] - 0s 14ms/step - loss: 0.4133 - accuracy: 0.8657 - val_loss: 0.5084 - val_accuracy: 0.8403 - lr: 0.0010\n",
            "Epoch 145/300\n",
            "23/23 [==============================] - 0s 15ms/step - loss: 0.3725 - accuracy: 0.8725 - val_loss: 0.4968 - val_accuracy: 0.8362 - lr: 0.0010\n",
            "Epoch 146/300\n",
            "23/23 [==============================] - 0s 15ms/step - loss: 0.3635 - accuracy: 0.8775 - val_loss: 0.5016 - val_accuracy: 0.8369 - lr: 0.0010\n",
            "Epoch 147/300\n",
            "23/23 [==============================] - 0s 16ms/step - loss: 0.3497 - accuracy: 0.8833 - val_loss: 0.5144 - val_accuracy: 0.8321 - lr: 0.0010\n",
            "Epoch 148/300\n",
            "23/23 [==============================] - 0s 15ms/step - loss: 0.3713 - accuracy: 0.8718 - val_loss: 0.5417 - val_accuracy: 0.8266 - lr: 0.0010\n",
            "Epoch 149/300\n",
            "23/23 [==============================] - 0s 15ms/step - loss: 0.3798 - accuracy: 0.8806 - val_loss: 0.4808 - val_accuracy: 0.8431 - lr: 0.0010\n",
            "Epoch 150/300\n",
            "23/23 [==============================] - 0s 14ms/step - loss: 0.3576 - accuracy: 0.8811 - val_loss: 0.4887 - val_accuracy: 0.8307 - lr: 0.0010\n",
            "Epoch 151/300\n",
            "23/23 [==============================] - 0s 15ms/step - loss: 0.3424 - accuracy: 0.8849 - val_loss: 0.4709 - val_accuracy: 0.8451 - lr: 0.0010\n",
            "Epoch 152/300\n",
            "23/23 [==============================] - 0s 15ms/step - loss: 0.3173 - accuracy: 0.8971 - val_loss: 0.4592 - val_accuracy: 0.8465 - lr: 0.0010\n",
            "Epoch 153/300\n",
            "23/23 [==============================] - 0s 16ms/step - loss: 0.3141 - accuracy: 0.8936 - val_loss: 0.4685 - val_accuracy: 0.8458 - lr: 0.0010\n",
            "Epoch 154/300\n",
            "23/23 [==============================] - 0s 16ms/step - loss: 0.3010 - accuracy: 0.9017 - val_loss: 0.4608 - val_accuracy: 0.8451 - lr: 0.0010\n",
            "Epoch 155/300\n",
            "23/23 [==============================] - 0s 15ms/step - loss: 0.2906 - accuracy: 0.9038 - val_loss: 0.4377 - val_accuracy: 0.8568 - lr: 0.0010\n",
            "Epoch 156/300\n",
            "23/23 [==============================] - 0s 16ms/step - loss: 0.3021 - accuracy: 0.8983 - val_loss: 0.4395 - val_accuracy: 0.8534 - lr: 0.0010\n",
            "Epoch 157/300\n",
            "23/23 [==============================] - 0s 15ms/step - loss: 0.2816 - accuracy: 0.9065 - val_loss: 0.4427 - val_accuracy: 0.8527 - lr: 0.0010\n",
            "Epoch 158/300\n",
            "23/23 [==============================] - 0s 15ms/step - loss: 0.2951 - accuracy: 0.9017 - val_loss: 0.4523 - val_accuracy: 0.8479 - lr: 0.0010\n",
            "Epoch 159/300\n",
            "23/23 [==============================] - 0s 16ms/step - loss: 0.3487 - accuracy: 0.8866 - val_loss: 0.4750 - val_accuracy: 0.8451 - lr: 0.0010\n",
            "Epoch 160/300\n",
            "23/23 [==============================] - 0s 15ms/step - loss: 0.3096 - accuracy: 0.8979 - val_loss: 0.4837 - val_accuracy: 0.8479 - lr: 0.0010\n",
            "Epoch 161/300\n",
            "23/23 [==============================] - 0s 16ms/step - loss: 0.3660 - accuracy: 0.8842 - val_loss: 0.4893 - val_accuracy: 0.8348 - lr: 0.0010\n",
            "Epoch 162/300\n",
            "23/23 [==============================] - 0s 14ms/step - loss: 0.3448 - accuracy: 0.8910 - val_loss: 0.5231 - val_accuracy: 0.8410 - lr: 0.0010\n",
            "Epoch 163/300\n",
            "23/23 [==============================] - 0s 15ms/step - loss: 0.3184 - accuracy: 0.8936 - val_loss: 0.4589 - val_accuracy: 0.8555 - lr: 0.0010\n",
            "Epoch 164/300\n",
            "23/23 [==============================] - 0s 16ms/step - loss: 0.3558 - accuracy: 0.8866 - val_loss: 0.4592 - val_accuracy: 0.8555 - lr: 0.0010\n",
            "Epoch 165/300\n",
            "23/23 [==============================] - 0s 14ms/step - loss: 0.3301 - accuracy: 0.8921 - val_loss: 0.4696 - val_accuracy: 0.8555 - lr: 0.0010\n",
            "Epoch 166/300\n",
            "23/23 [==============================] - 0s 15ms/step - loss: 0.3063 - accuracy: 0.9029 - val_loss: 0.4532 - val_accuracy: 0.8520 - lr: 5.0000e-04\n",
            "Epoch 167/300\n",
            "23/23 [==============================] - 0s 16ms/step - loss: 0.2760 - accuracy: 0.9065 - val_loss: 0.4405 - val_accuracy: 0.8562 - lr: 5.0000e-04\n",
            "Epoch 168/300\n",
            "23/23 [==============================] - 0s 16ms/step - loss: 0.2612 - accuracy: 0.9151 - val_loss: 0.4323 - val_accuracy: 0.8610 - lr: 5.0000e-04\n",
            "Epoch 169/300\n",
            "23/23 [==============================] - 0s 15ms/step - loss: 0.2468 - accuracy: 0.9194 - val_loss: 0.4266 - val_accuracy: 0.8582 - lr: 5.0000e-04\n",
            "Epoch 170/300\n",
            "23/23 [==============================] - 0s 14ms/step - loss: 0.2483 - accuracy: 0.9176 - val_loss: 0.4267 - val_accuracy: 0.8630 - lr: 5.0000e-04\n",
            "Epoch 171/300\n",
            "23/23 [==============================] - 0s 14ms/step - loss: 0.2460 - accuracy: 0.9133 - val_loss: 0.4308 - val_accuracy: 0.8589 - lr: 5.0000e-04\n",
            "Epoch 172/300\n",
            "23/23 [==============================] - 0s 15ms/step - loss: 0.2408 - accuracy: 0.9196 - val_loss: 0.4170 - val_accuracy: 0.8651 - lr: 5.0000e-04\n",
            "Epoch 173/300\n",
            "23/23 [==============================] - 0s 15ms/step - loss: 0.2280 - accuracy: 0.9270 - val_loss: 0.4214 - val_accuracy: 0.8720 - lr: 5.0000e-04\n",
            "Epoch 174/300\n",
            "23/23 [==============================] - 0s 15ms/step - loss: 0.2298 - accuracy: 0.9251 - val_loss: 0.4240 - val_accuracy: 0.8630 - lr: 5.0000e-04\n",
            "Epoch 175/300\n",
            "23/23 [==============================] - 0s 14ms/step - loss: 0.2215 - accuracy: 0.9294 - val_loss: 0.4140 - val_accuracy: 0.8699 - lr: 5.0000e-04\n",
            "Epoch 176/300\n",
            "23/23 [==============================] - 0s 15ms/step - loss: 0.2111 - accuracy: 0.9282 - val_loss: 0.4121 - val_accuracy: 0.8679 - lr: 5.0000e-04\n",
            "Epoch 177/300\n",
            "23/23 [==============================] - 0s 16ms/step - loss: 0.2207 - accuracy: 0.9270 - val_loss: 0.4095 - val_accuracy: 0.8734 - lr: 5.0000e-04\n",
            "Epoch 178/300\n",
            "23/23 [==============================] - 0s 16ms/step - loss: 0.2283 - accuracy: 0.9277 - val_loss: 0.4165 - val_accuracy: 0.8665 - lr: 5.0000e-04\n",
            "Epoch 179/300\n",
            "23/23 [==============================] - 0s 15ms/step - loss: 0.2185 - accuracy: 0.9256 - val_loss: 0.4028 - val_accuracy: 0.8706 - lr: 5.0000e-04\n",
            "Epoch 180/300\n",
            "23/23 [==============================] - 0s 14ms/step - loss: 0.2196 - accuracy: 0.9305 - val_loss: 0.4198 - val_accuracy: 0.8658 - lr: 5.0000e-04\n",
            "Epoch 181/300\n",
            "23/23 [==============================] - 0s 16ms/step - loss: 0.2173 - accuracy: 0.9279 - val_loss: 0.4006 - val_accuracy: 0.8727 - lr: 5.0000e-04\n",
            "Epoch 182/300\n",
            "23/23 [==============================] - 0s 16ms/step - loss: 0.2227 - accuracy: 0.9289 - val_loss: 0.4519 - val_accuracy: 0.8575 - lr: 5.0000e-04\n",
            "Epoch 183/300\n",
            "23/23 [==============================] - 0s 14ms/step - loss: 0.2170 - accuracy: 0.9296 - val_loss: 0.4002 - val_accuracy: 0.8713 - lr: 5.0000e-04\n",
            "Epoch 184/300\n",
            "23/23 [==============================] - 0s 14ms/step - loss: 0.2049 - accuracy: 0.9336 - val_loss: 0.4099 - val_accuracy: 0.8734 - lr: 5.0000e-04\n",
            "Epoch 185/300\n",
            "23/23 [==============================] - 0s 17ms/step - loss: 0.2093 - accuracy: 0.9298 - val_loss: 0.4004 - val_accuracy: 0.8727 - lr: 5.0000e-04\n",
            "Epoch 186/300\n",
            "23/23 [==============================] - 0s 15ms/step - loss: 0.1926 - accuracy: 0.9413 - val_loss: 0.3902 - val_accuracy: 0.8747 - lr: 5.0000e-04\n",
            "Epoch 187/300\n",
            "23/23 [==============================] - 0s 16ms/step - loss: 0.1853 - accuracy: 0.9396 - val_loss: 0.4017 - val_accuracy: 0.8747 - lr: 5.0000e-04\n",
            "Epoch 188/300\n",
            "23/23 [==============================] - 0s 15ms/step - loss: 0.1941 - accuracy: 0.9363 - val_loss: 0.4031 - val_accuracy: 0.8775 - lr: 5.0000e-04\n",
            "Epoch 189/300\n",
            "23/23 [==============================] - 0s 15ms/step - loss: 0.1909 - accuracy: 0.9408 - val_loss: 0.3965 - val_accuracy: 0.8692 - lr: 5.0000e-04\n",
            "Epoch 190/300\n",
            "23/23 [==============================] - 0s 16ms/step - loss: 0.1856 - accuracy: 0.9373 - val_loss: 0.3907 - val_accuracy: 0.8761 - lr: 5.0000e-04\n",
            "Epoch 191/300\n",
            "23/23 [==============================] - 0s 14ms/step - loss: 0.1883 - accuracy: 0.9418 - val_loss: 0.4071 - val_accuracy: 0.8754 - lr: 5.0000e-04\n",
            "Epoch 192/300\n",
            "23/23 [==============================] - 0s 16ms/step - loss: 0.1963 - accuracy: 0.9355 - val_loss: 0.3970 - val_accuracy: 0.8768 - lr: 5.0000e-04\n",
            "Epoch 193/300\n",
            "23/23 [==============================] - 0s 14ms/step - loss: 0.1813 - accuracy: 0.9429 - val_loss: 0.3950 - val_accuracy: 0.8754 - lr: 5.0000e-04\n",
            "Epoch 194/300\n",
            "23/23 [==============================] - 0s 15ms/step - loss: 0.1984 - accuracy: 0.9349 - val_loss: 0.3975 - val_accuracy: 0.8741 - lr: 5.0000e-04\n",
            "Epoch 195/300\n",
            "23/23 [==============================] - 0s 16ms/step - loss: 0.1847 - accuracy: 0.9401 - val_loss: 0.4006 - val_accuracy: 0.8754 - lr: 5.0000e-04\n",
            "Epoch 196/300\n",
            "23/23 [==============================] - 0s 15ms/step - loss: 0.1885 - accuracy: 0.9429 - val_loss: 0.3856 - val_accuracy: 0.8782 - lr: 5.0000e-04\n",
            "Epoch 197/300\n",
            "23/23 [==============================] - 0s 14ms/step - loss: 0.1716 - accuracy: 0.9463 - val_loss: 0.4118 - val_accuracy: 0.8692 - lr: 5.0000e-04\n",
            "Epoch 198/300\n",
            "23/23 [==============================] - 0s 15ms/step - loss: 0.1729 - accuracy: 0.9480 - val_loss: 0.3785 - val_accuracy: 0.8789 - lr: 5.0000e-04\n",
            "Epoch 199/300\n",
            "23/23 [==============================] - 0s 16ms/step - loss: 0.1789 - accuracy: 0.9418 - val_loss: 0.3812 - val_accuracy: 0.8761 - lr: 5.0000e-04\n",
            "Epoch 200/300\n",
            "23/23 [==============================] - 0s 16ms/step - loss: 0.1668 - accuracy: 0.9472 - val_loss: 0.3866 - val_accuracy: 0.8775 - lr: 5.0000e-04\n",
            "Epoch 201/300\n",
            "23/23 [==============================] - 0s 16ms/step - loss: 0.1996 - accuracy: 0.9372 - val_loss: 0.4125 - val_accuracy: 0.8734 - lr: 5.0000e-04\n",
            "Epoch 202/300\n",
            "23/23 [==============================] - 0s 15ms/step - loss: 0.1789 - accuracy: 0.9413 - val_loss: 0.3898 - val_accuracy: 0.8761 - lr: 5.0000e-04\n",
            "Epoch 203/300\n",
            "23/23 [==============================] - 0s 15ms/step - loss: 0.1918 - accuracy: 0.9420 - val_loss: 0.4031 - val_accuracy: 0.8741 - lr: 5.0000e-04\n",
            "Epoch 204/300\n",
            "23/23 [==============================] - 0s 15ms/step - loss: 0.1774 - accuracy: 0.9441 - val_loss: 0.3790 - val_accuracy: 0.8823 - lr: 5.0000e-04\n",
            "Epoch 205/300\n",
            "23/23 [==============================] - 0s 15ms/step - loss: 0.1910 - accuracy: 0.9396 - val_loss: 0.3946 - val_accuracy: 0.8734 - lr: 5.0000e-04\n",
            "Epoch 206/300\n",
            "23/23 [==============================] - 0s 15ms/step - loss: 0.1871 - accuracy: 0.9417 - val_loss: 0.4115 - val_accuracy: 0.8706 - lr: 5.0000e-04\n",
            "Epoch 207/300\n",
            "23/23 [==============================] - 0s 16ms/step - loss: 0.2220 - accuracy: 0.9343 - val_loss: 0.4281 - val_accuracy: 0.8734 - lr: 5.0000e-04\n",
            "Epoch 208/300\n",
            "23/23 [==============================] - 0s 17ms/step - loss: 0.1952 - accuracy: 0.9380 - val_loss: 0.3892 - val_accuracy: 0.8768 - lr: 5.0000e-04\n",
            "Epoch 209/300\n",
            "23/23 [==============================] - 0s 16ms/step - loss: 0.1721 - accuracy: 0.9470 - val_loss: 0.3990 - val_accuracy: 0.8754 - lr: 5.0000e-04\n",
            "Epoch 210/300\n",
            "23/23 [==============================] - 0s 16ms/step - loss: 0.1758 - accuracy: 0.9504 - val_loss: 0.4390 - val_accuracy: 0.8747 - lr: 5.0000e-04\n",
            "Epoch 211/300\n",
            "23/23 [==============================] - 0s 16ms/step - loss: 0.1640 - accuracy: 0.9484 - val_loss: 0.3891 - val_accuracy: 0.8796 - lr: 5.0000e-04\n",
            "Epoch 212/300\n",
            "23/23 [==============================] - 0s 16ms/step - loss: 0.1686 - accuracy: 0.9449 - val_loss: 0.3853 - val_accuracy: 0.8802 - lr: 5.0000e-04\n",
            "Epoch 213/300\n",
            "23/23 [==============================] - 0s 14ms/step - loss: 0.1865 - accuracy: 0.9422 - val_loss: 0.3990 - val_accuracy: 0.8809 - lr: 5.0000e-04\n",
            "Epoch 214/300\n",
            "23/23 [==============================] - 0s 15ms/step - loss: 0.1612 - accuracy: 0.9477 - val_loss: 0.3931 - val_accuracy: 0.8844 - lr: 5.0000e-04\n",
            "Epoch 215/300\n",
            "23/23 [==============================] - 0s 15ms/step - loss: 0.1667 - accuracy: 0.9494 - val_loss: 0.3709 - val_accuracy: 0.8816 - lr: 5.0000e-04\n",
            "Epoch 216/300\n",
            "23/23 [==============================] - 0s 15ms/step - loss: 0.1518 - accuracy: 0.9525 - val_loss: 0.3754 - val_accuracy: 0.8830 - lr: 5.0000e-04\n",
            "Epoch 217/300\n",
            "23/23 [==============================] - 0s 15ms/step - loss: 0.1585 - accuracy: 0.9522 - val_loss: 0.3823 - val_accuracy: 0.8789 - lr: 5.0000e-04\n",
            "Epoch 218/300\n",
            "23/23 [==============================] - 0s 15ms/step - loss: 0.1544 - accuracy: 0.9511 - val_loss: 0.3709 - val_accuracy: 0.8837 - lr: 5.0000e-04\n",
            "Epoch 219/300\n",
            "23/23 [==============================] - 0s 15ms/step - loss: 0.1520 - accuracy: 0.9506 - val_loss: 0.3805 - val_accuracy: 0.8823 - lr: 5.0000e-04\n",
            "Epoch 220/300\n",
            "23/23 [==============================] - 0s 15ms/step - loss: 0.1394 - accuracy: 0.9566 - val_loss: 0.3796 - val_accuracy: 0.8837 - lr: 5.0000e-04\n",
            "Epoch 221/300\n",
            "23/23 [==============================] - 0s 16ms/step - loss: 0.1430 - accuracy: 0.9554 - val_loss: 0.3794 - val_accuracy: 0.8844 - lr: 5.0000e-04\n",
            "Epoch 222/300\n",
            "23/23 [==============================] - 0s 17ms/step - loss: 0.1456 - accuracy: 0.9554 - val_loss: 0.3683 - val_accuracy: 0.8878 - lr: 5.0000e-04\n",
            "Epoch 223/300\n",
            "23/23 [==============================] - 0s 15ms/step - loss: 0.1788 - accuracy: 0.9496 - val_loss: 0.3565 - val_accuracy: 0.8919 - lr: 5.0000e-04\n",
            "Epoch 224/300\n",
            "23/23 [==============================] - 0s 16ms/step - loss: 0.1470 - accuracy: 0.9534 - val_loss: 0.3641 - val_accuracy: 0.8906 - lr: 5.0000e-04\n",
            "Epoch 225/300\n",
            "23/23 [==============================] - 0s 14ms/step - loss: 0.1515 - accuracy: 0.9522 - val_loss: 0.3656 - val_accuracy: 0.8830 - lr: 5.0000e-04\n",
            "Epoch 226/300\n",
            "23/23 [==============================] - 0s 15ms/step - loss: 0.1563 - accuracy: 0.9496 - val_loss: 0.4140 - val_accuracy: 0.8809 - lr: 5.0000e-04\n",
            "Epoch 227/300\n",
            "23/23 [==============================] - 0s 15ms/step - loss: 0.1636 - accuracy: 0.9456 - val_loss: 0.4199 - val_accuracy: 0.8741 - lr: 5.0000e-04\n",
            "Epoch 228/300\n",
            "23/23 [==============================] - 0s 15ms/step - loss: 0.1643 - accuracy: 0.9504 - val_loss: 0.3759 - val_accuracy: 0.8830 - lr: 5.0000e-04\n",
            "Epoch 229/300\n",
            "23/23 [==============================] - 0s 16ms/step - loss: 0.1499 - accuracy: 0.9508 - val_loss: 0.3702 - val_accuracy: 0.8878 - lr: 5.0000e-04\n",
            "Epoch 230/300\n",
            "23/23 [==============================] - 0s 15ms/step - loss: 0.1468 - accuracy: 0.9520 - val_loss: 0.3625 - val_accuracy: 0.8892 - lr: 5.0000e-04\n",
            "Epoch 231/300\n",
            "23/23 [==============================] - 0s 15ms/step - loss: 0.1366 - accuracy: 0.9559 - val_loss: 0.3724 - val_accuracy: 0.8837 - lr: 5.0000e-04\n",
            "Epoch 232/300\n",
            "23/23 [==============================] - 0s 15ms/step - loss: 0.1312 - accuracy: 0.9568 - val_loss: 0.3723 - val_accuracy: 0.8878 - lr: 5.0000e-04\n",
            "Epoch 233/300\n",
            "23/23 [==============================] - 0s 15ms/step - loss: 0.1396 - accuracy: 0.9568 - val_loss: 0.3856 - val_accuracy: 0.8844 - lr: 5.0000e-04\n",
            "Epoch 234/300\n",
            "23/23 [==============================] - 0s 14ms/step - loss: 0.1375 - accuracy: 0.9606 - val_loss: 0.3795 - val_accuracy: 0.8878 - lr: 2.5000e-04\n",
            "Epoch 235/300\n",
            "23/23 [==============================] - 0s 15ms/step - loss: 0.1274 - accuracy: 0.9602 - val_loss: 0.3769 - val_accuracy: 0.8906 - lr: 2.5000e-04\n",
            "Epoch 236/300\n",
            "23/23 [==============================] - 0s 16ms/step - loss: 0.1354 - accuracy: 0.9623 - val_loss: 0.3651 - val_accuracy: 0.8961 - lr: 2.5000e-04\n",
            "Epoch 237/300\n",
            "23/23 [==============================] - 0s 16ms/step - loss: 0.1258 - accuracy: 0.9597 - val_loss: 0.3657 - val_accuracy: 0.8919 - lr: 2.5000e-04\n",
            "Epoch 238/300\n",
            "23/23 [==============================] - 0s 15ms/step - loss: 0.1173 - accuracy: 0.9630 - val_loss: 0.3671 - val_accuracy: 0.8919 - lr: 2.5000e-04\n",
            "Epoch 239/300\n",
            "23/23 [==============================] - 0s 15ms/step - loss: 0.1171 - accuracy: 0.9651 - val_loss: 0.3434 - val_accuracy: 0.8968 - lr: 2.5000e-04\n",
            "Epoch 240/300\n",
            "23/23 [==============================] - 0s 15ms/step - loss: 0.1176 - accuracy: 0.9637 - val_loss: 0.3505 - val_accuracy: 0.8975 - lr: 2.5000e-04\n",
            "Epoch 241/300\n",
            "23/23 [==============================] - 0s 17ms/step - loss: 0.1105 - accuracy: 0.9639 - val_loss: 0.3461 - val_accuracy: 0.8940 - lr: 2.5000e-04\n",
            "Epoch 242/300\n",
            "23/23 [==============================] - 0s 15ms/step - loss: 0.1186 - accuracy: 0.9640 - val_loss: 0.3559 - val_accuracy: 0.8954 - lr: 2.5000e-04\n",
            "Epoch 243/300\n",
            "23/23 [==============================] - 0s 15ms/step - loss: 0.1094 - accuracy: 0.9685 - val_loss: 0.3522 - val_accuracy: 0.8968 - lr: 2.5000e-04\n",
            "Epoch 244/300\n",
            "23/23 [==============================] - 0s 15ms/step - loss: 0.1152 - accuracy: 0.9654 - val_loss: 0.3536 - val_accuracy: 0.8954 - lr: 2.5000e-04\n",
            "Epoch 245/300\n",
            "23/23 [==============================] - 0s 17ms/step - loss: 0.1015 - accuracy: 0.9719 - val_loss: 0.3467 - val_accuracy: 0.8988 - lr: 2.5000e-04\n",
            "Epoch 246/300\n",
            "23/23 [==============================] - 0s 15ms/step - loss: 0.1100 - accuracy: 0.9678 - val_loss: 0.3535 - val_accuracy: 0.8926 - lr: 2.5000e-04\n",
            "Epoch 247/300\n",
            "23/23 [==============================] - 0s 15ms/step - loss: 0.1102 - accuracy: 0.9670 - val_loss: 0.3346 - val_accuracy: 0.8981 - lr: 2.5000e-04\n",
            "Epoch 248/300\n",
            "23/23 [==============================] - 0s 15ms/step - loss: 0.1087 - accuracy: 0.9649 - val_loss: 0.3329 - val_accuracy: 0.9002 - lr: 2.5000e-04\n",
            "Epoch 249/300\n",
            "23/23 [==============================] - 0s 16ms/step - loss: 0.1006 - accuracy: 0.9685 - val_loss: 0.3449 - val_accuracy: 0.8954 - lr: 2.5000e-04\n",
            "Epoch 250/300\n",
            "23/23 [==============================] - 0s 15ms/step - loss: 0.1087 - accuracy: 0.9663 - val_loss: 0.3504 - val_accuracy: 0.8968 - lr: 2.5000e-04\n",
            "Epoch 251/300\n",
            "23/23 [==============================] - 0s 16ms/step - loss: 0.1122 - accuracy: 0.9632 - val_loss: 0.3495 - val_accuracy: 0.9030 - lr: 2.5000e-04\n",
            "Epoch 252/300\n",
            "23/23 [==============================] - 0s 15ms/step - loss: 0.1011 - accuracy: 0.9697 - val_loss: 0.3478 - val_accuracy: 0.9002 - lr: 2.5000e-04\n",
            "Epoch 253/300\n",
            "23/23 [==============================] - 0s 15ms/step - loss: 0.1071 - accuracy: 0.9661 - val_loss: 0.3403 - val_accuracy: 0.9023 - lr: 2.5000e-04\n",
            "Epoch 254/300\n",
            "23/23 [==============================] - 0s 15ms/step - loss: 0.1059 - accuracy: 0.9671 - val_loss: 0.3364 - val_accuracy: 0.9002 - lr: 2.5000e-04\n",
            "Epoch 255/300\n",
            "23/23 [==============================] - 0s 15ms/step - loss: 0.1072 - accuracy: 0.9673 - val_loss: 0.3379 - val_accuracy: 0.8947 - lr: 2.5000e-04\n",
            "Epoch 256/300\n",
            "23/23 [==============================] - 0s 15ms/step - loss: 0.1002 - accuracy: 0.9687 - val_loss: 0.3297 - val_accuracy: 0.9002 - lr: 2.5000e-04\n",
            "Epoch 257/300\n",
            "23/23 [==============================] - 0s 15ms/step - loss: 0.0994 - accuracy: 0.9706 - val_loss: 0.3359 - val_accuracy: 0.9023 - lr: 2.5000e-04\n",
            "Epoch 258/300\n",
            "23/23 [==============================] - 0s 15ms/step - loss: 0.1067 - accuracy: 0.9671 - val_loss: 0.3435 - val_accuracy: 0.9009 - lr: 2.5000e-04\n",
            "Epoch 259/300\n",
            "23/23 [==============================] - 0s 15ms/step - loss: 0.1012 - accuracy: 0.9697 - val_loss: 0.3486 - val_accuracy: 0.8926 - lr: 2.5000e-04\n",
            "Epoch 260/300\n",
            "23/23 [==============================] - 0s 17ms/step - loss: 0.1037 - accuracy: 0.9687 - val_loss: 0.3368 - val_accuracy: 0.9030 - lr: 2.5000e-04\n",
            "Epoch 261/300\n",
            "23/23 [==============================] - 0s 17ms/step - loss: 0.0963 - accuracy: 0.9707 - val_loss: 0.3436 - val_accuracy: 0.8995 - lr: 2.5000e-04\n",
            "Epoch 262/300\n",
            "23/23 [==============================] - 0s 15ms/step - loss: 0.1178 - accuracy: 0.9701 - val_loss: 0.3404 - val_accuracy: 0.8988 - lr: 1.2500e-04\n",
            "Epoch 263/300\n",
            "23/23 [==============================] - 0s 17ms/step - loss: 0.1013 - accuracy: 0.9697 - val_loss: 0.3397 - val_accuracy: 0.8995 - lr: 1.2500e-04\n",
            "Epoch 264/300\n",
            "23/23 [==============================] - 0s 16ms/step - loss: 0.0973 - accuracy: 0.9709 - val_loss: 0.3359 - val_accuracy: 0.9016 - lr: 1.2500e-04\n",
            "Epoch 265/300\n",
            "23/23 [==============================] - 0s 15ms/step - loss: 0.0894 - accuracy: 0.9740 - val_loss: 0.3443 - val_accuracy: 0.9016 - lr: 1.2500e-04\n",
            "Epoch 266/300\n",
            "23/23 [==============================] - 0s 15ms/step - loss: 0.0944 - accuracy: 0.9731 - val_loss: 0.3382 - val_accuracy: 0.9009 - lr: 1.2500e-04\n",
            "Epoch 267/300\n",
            "23/23 [==============================] - 0s 16ms/step - loss: 0.0954 - accuracy: 0.9702 - val_loss: 0.3362 - val_accuracy: 0.8988 - lr: 1.2500e-04\n",
            "Epoch 268/300\n",
            "23/23 [==============================] - 0s 17ms/step - loss: 0.0923 - accuracy: 0.9719 - val_loss: 0.3297 - val_accuracy: 0.9023 - lr: 1.2500e-04\n",
            "Epoch 269/300\n",
            "23/23 [==============================] - 0s 15ms/step - loss: 0.0961 - accuracy: 0.9692 - val_loss: 0.3337 - val_accuracy: 0.9023 - lr: 1.2500e-04\n",
            "Epoch 270/300\n",
            "23/23 [==============================] - 0s 16ms/step - loss: 0.0934 - accuracy: 0.9713 - val_loss: 0.3359 - val_accuracy: 0.8988 - lr: 1.2500e-04\n",
            "Epoch 271/300\n",
            "23/23 [==============================] - 0s 17ms/step - loss: 0.0849 - accuracy: 0.9768 - val_loss: 0.3364 - val_accuracy: 0.9009 - lr: 1.2500e-04\n",
            "Epoch 272/300\n",
            "23/23 [==============================] - 0s 15ms/step - loss: 0.0923 - accuracy: 0.9711 - val_loss: 0.3349 - val_accuracy: 0.8988 - lr: 6.2500e-05\n",
            "Epoch 273/300\n",
            "23/23 [==============================] - 0s 15ms/step - loss: 0.0881 - accuracy: 0.9776 - val_loss: 0.3364 - val_accuracy: 0.9002 - lr: 6.2500e-05\n",
            "Epoch 274/300\n",
            "23/23 [==============================] - 0s 16ms/step - loss: 0.0918 - accuracy: 0.9716 - val_loss: 0.3326 - val_accuracy: 0.8995 - lr: 6.2500e-05\n",
            "Epoch 275/300\n",
            "23/23 [==============================] - 0s 15ms/step - loss: 0.0943 - accuracy: 0.9728 - val_loss: 0.3339 - val_accuracy: 0.8988 - lr: 6.2500e-05\n",
            "Epoch 276/300\n",
            "23/23 [==============================] - 0s 15ms/step - loss: 0.0953 - accuracy: 0.9695 - val_loss: 0.3345 - val_accuracy: 0.9002 - lr: 6.2500e-05\n",
            "Epoch 277/300\n",
            "23/23 [==============================] - 0s 15ms/step - loss: 0.0820 - accuracy: 0.9776 - val_loss: 0.3349 - val_accuracy: 0.9002 - lr: 6.2500e-05\n",
            "Epoch 278/300\n",
            "23/23 [==============================] - 0s 17ms/step - loss: 0.0850 - accuracy: 0.9745 - val_loss: 0.3372 - val_accuracy: 0.8975 - lr: 6.2500e-05\n",
            "Epoch 279/300\n",
            "23/23 [==============================] - 0s 15ms/step - loss: 0.0848 - accuracy: 0.9730 - val_loss: 0.3450 - val_accuracy: 0.9002 - lr: 6.2500e-05\n",
            "Epoch 280/300\n",
            "23/23 [==============================] - 0s 17ms/step - loss: 0.0883 - accuracy: 0.9738 - val_loss: 0.3347 - val_accuracy: 0.9002 - lr: 6.2500e-05\n",
            "Epoch 281/300\n",
            "23/23 [==============================] - 0s 16ms/step - loss: 0.0856 - accuracy: 0.9738 - val_loss: 0.3394 - val_accuracy: 0.9009 - lr: 6.2500e-05\n"
          ]
        }
      ]
    },
    {
      "cell_type": "code",
      "source": [
        "best_epoch = np.argmax(history['val_accuracy'])\n",
        "plt.figure(figsize=(17,4))\n",
        "plt.plot(history['loss'], label='Training loss', alpha=.8, color='#ff7f0e')\n",
        "plt.plot(history['val_loss'], label='Validation loss', alpha=.9, color='#5a9aa5')\n",
        "plt.axvline(x=best_epoch, label='Best epoch', alpha=.3, ls='--', color='#5a9aa5')\n",
        "plt.title('Categorical Crossentropy')\n",
        "plt.legend()\n",
        "plt.grid(alpha=.3)\n",
        "plt.show()\n",
        "\n",
        "plt.figure(figsize=(17,4))\n",
        "plt.plot(history['accuracy'], label='Training accuracy', alpha=.8, color='#ff7f0e')\n",
        "plt.plot(history['val_accuracy'], label='Validation accuracy', alpha=.9, color='#5a9aa5')\n",
        "plt.axvline(x=best_epoch, label='Best epoch', alpha=.3, ls='--', color='#5a9aa5')\n",
        "plt.title('Accuracy')\n",
        "plt.legend()\n",
        "plt.grid(alpha=.3)\n",
        "plt.show()\n",
        "\n",
        "plt.figure(figsize=(18,3))\n",
        "plt.plot(history['lr'], label='Learning Rate', alpha=.8, color='#ff7f0e')\n",
        "plt.axvline(x=best_epoch, label='Best epoch', alpha=.3, ls='--', color='#5a9aa5')\n",
        "plt.legend()\n",
        "plt.grid(alpha=.3)\n",
        "plt.show()"
      ],
      "metadata": {
        "colab": {
          "base_uri": "https://localhost:8080/",
          "height": 764
        },
        "id": "ZTGFlDpG4rTc",
        "outputId": "9aee6a89-a5c0-43d6-eb9e-b2a1a29686aa"
      },
      "execution_count": null,
      "outputs": [
        {
          "output_type": "display_data",
          "data": {
            "text/plain": [
              "<Figure size 1224x288 with 1 Axes>"
            ],
            "image/png": "[encoded data removed]"
          },
          "metadata": {
            "needs_background": "light"
          }
        },
        {
          "output_type": "display_data",
          "data": {
            "text/plain": [
              "<Figure size 1224x288 with 1 Axes>"
            ],
            "image/png": "[encoded data removed]"
          },
          "metadata": {
            "needs_background": "light"
          }
        },
        {
          "output_type": "display_data",
          "data": {
            "text/plain": [
              "<Figure size 1296x216 with 1 Axes>"
            ],
            "image/png": "[encoded data removed]"
          },
          "metadata": {
            "needs_background": "light"
          }
        }
      ]
    },
    {
      "cell_type": "code",
      "source": [
        "model.save('TCN_Sliding_stride_12_final')"
      ],
      "metadata": {
        "id": "XOhVwpE44tu4",
        "colab": {
          "base_uri": "https://localhost:8080/"
        },
        "outputId": "200eb086-b0da-451c-d261-967a489b10d3"
      },
      "execution_count": null,
      "outputs": [
        {
          "output_type": "stream",
          "name": "stderr",
          "text": [
            "WARNING:absl:Function `_wrapped_model` contains input name(s) Input with unsupported characters which will be renamed to input in the SavedModel.\n",
            "WARNING:absl:Found untraced functions such as _jit_compiled_convolution_op, _jit_compiled_convolution_op while saving (showing 2 of 2). These functions will not be directly callable after loading.\n"
          ]
        }
      ]
    },
    {
      "cell_type": "markdown",
      "source": [],
      "metadata": {
        "id": "pfjEIF9xF09g"
      }
    }
  ]
}