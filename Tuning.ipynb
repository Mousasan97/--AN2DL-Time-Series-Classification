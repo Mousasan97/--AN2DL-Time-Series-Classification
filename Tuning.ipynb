{
  "metadata": {
    "kernelspec": {
      "language": "python",
      "display_name": "Python 3",
      "name": "python3"
    },
    "language_info": {
      "name": "python",
      "version": "3.7.12",
      "mimetype": "text/x-python",
      "codemirror_mode": {
        "name": "ipython",
        "version": 3
      },
      "pygments_lexer": "ipython3",
      "nbconvert_exporter": "python",
      "file_extension": ".py"
    },
    "colab": {
      "provenance": []
    }
  },
  "nbformat_minor": 0,
  "nbformat": 4,
  "cells": [
    {
      "cell_type": "code",
      "source": [
        "# pip install keras-tuner --upgrade\n",
        "import numpy as np\n",
        "import tensorflow as tf\n",
        "import tensorflow.keras as tfk\n",
        "import tensorflow.keras.layers as tfkl\n",
        "from tensorflow import keras\n",
        "from tensorflow.keras import models\n",
        "# from tensorflow.keras.models import Model, Sequential\n",
        "# from tensorflow.keras.layers import  Activation, Dense, Flatten, BatchNormalization, Conv2D, MaxPool2D, Dropout, Resizing\n",
        "# from tensorflow.keras.optimizers import Adam\n",
        "# from tensorflow.keras.metrics import categorical_crossentropy\n",
        "from sklearn.preprocessing import RobustScaler\n",
        "from sklearn.model_selection import train_test_split\n",
        "from sklearn.metrics import confusion_matrix\n",
        "import keras_tuner\n",
        "import itertools\n",
        "import os\n",
        "import shutil\n",
        "import random\n",
        "import glob\n",
        "import matplotlib.pyplot as plt\n",
        "\n",
        "%matplotlib inline\n",
        "\n",
        "# reproducibility\n",
        "seed = 42\n",
        "random.seed(seed)\n",
        "os.environ['PYTHONHASHSEED'] = str(seed)\n",
        "np.random.seed(seed)\n",
        "tf.random.set_seed(seed)\n",
        "tf.compat.v1.set_random_seed(seed)"
      ],
      "metadata": {
        "_uuid": "8f2839f25d086af736a60e9eeb907d3b93b6e0e5",
        "_cell_guid": "b1076dfc-b9ad-4769-8c92-a6c4dae69d19",
        "execution": {
          "iopub.status.busy": "2022-12-16T22:49:22.218444Z",
          "iopub.execute_input": "2022-12-16T22:49:22.218942Z",
          "iopub.status.idle": "2022-12-16T22:49:33.584076Z",
          "shell.execute_reply.started": "2022-12-16T22:49:22.218891Z",
          "shell.execute_reply": "2022-12-16T22:49:33.582768Z"
        },
        "trusted": true,
        "id": "yU5V8GBkyPkm"
      },
      "execution_count": null,
      "outputs": []
    },
    {
      "cell_type": "code",
      "source": [
        "dataset_dir = '/kaggle/input/anndl-challenge2/'\n",
        "\n",
        "x = np.load(dataset_dir + 'x_train.npy')\n",
        "y = np.load(dataset_dir + 'y_train.npy')\n",
        "y = tfk.utils.to_categorical(y)\n",
        "\n",
        "input_shape = x.shape[1:]\n",
        "classes = y.shape[-1]\n",
        "batch_size = 128\n",
        "epochs = 200\n",
        "print ('input shape:',input_shape,', classes:', classes)"
      ],
      "metadata": {
        "execution": {
          "iopub.status.busy": "2022-12-16T22:49:33.589348Z",
          "iopub.execute_input": "2022-12-16T22:49:33.590212Z",
          "iopub.status.idle": "2022-12-16T22:49:33.674624Z",
          "shell.execute_reply.started": "2022-12-16T22:49:33.590173Z",
          "shell.execute_reply": "2022-12-16T22:49:33.670082Z"
        },
        "trusted": true,
        "id": "Z6IWG4HXyPkq",
        "outputId": "0d171f93-8fe6-4631-ff02-dac843e092fa"
      },
      "execution_count": null,
      "outputs": [
        {
          "name": "stdout",
          "text": "input shape: (36, 6) , classes: 12\n",
          "output_type": "stream"
        }
      ]
    },
    {
      "cell_type": "code",
      "source": [
        "# scaler normalization\n",
        "X = x.reshape(-1,x.shape[-1])\n",
        "X_scaled = RobustScaler().fit(X).transform(X)\n",
        "xs = X_scaled.reshape(x.shape)"
      ],
      "metadata": {
        "execution": {
          "iopub.status.busy": "2022-12-16T22:49:33.676165Z",
          "iopub.execute_input": "2022-12-16T22:49:33.676761Z",
          "iopub.status.idle": "2022-12-16T22:49:33.719374Z",
          "shell.execute_reply.started": "2022-12-16T22:49:33.676725Z",
          "shell.execute_reply": "2022-12-16T22:49:33.717950Z"
        },
        "trusted": true,
        "id": "1__uyDnhyPkr"
      },
      "execution_count": null,
      "outputs": []
    },
    {
      "cell_type": "code",
      "source": [
        "x_train, x_val, y_train, y_val = train_test_split(xs, y, test_size=.2)"
      ],
      "metadata": {
        "execution": {
          "iopub.status.busy": "2022-12-16T22:49:33.721858Z",
          "iopub.execute_input": "2022-12-16T22:49:33.722578Z",
          "iopub.status.idle": "2022-12-16T22:49:33.731626Z",
          "shell.execute_reply.started": "2022-12-16T22:49:33.722538Z",
          "shell.execute_reply": "2022-12-16T22:49:33.730638Z"
        },
        "trusted": true,
        "id": "fxJcY_9_yPkr"
      },
      "execution_count": null,
      "outputs": []
    },
    {
      "cell_type": "markdown",
      "source": [
        "#### Define model(s)"
      ],
      "metadata": {
        "id": "X5ZIeSDxyPks"
      }
    },
    {
      "cell_type": "code",
      "source": [
        "def model_skeleton(input_shape, classes,\n",
        "                   modelchoice,\n",
        "                   units1,\n",
        "                   units2,\n",
        "                   units3,\n",
        "                   unitsD1,\n",
        "                   unitsD2,\n",
        "                   dense2,\n",
        "                   dropout1,\n",
        "                   dropout2,\n",
        "                   dropout3,\n",
        "                   dropout4,\n",
        "                   poolchoice1,\n",
        "                   poolchoice2,\n",
        "                   poolchoice3,\n",
        "                   avgpool,\n",
        "                   lr):\n",
        "    # Build the neural network layer by layer\n",
        "    model = tfk.models.Sequential()\n",
        "    model.add(tfkl.Input(shape=input_shape, name='Input'))\n",
        "\n",
        "    # Feature extractor v1: LSTM\n",
        "    if modelchoice in [1,2,3]:\n",
        "        model.add(tfkl.LSTM(units1, return_sequences=True))\n",
        "        if dropout1:\n",
        "            model.add(tfkl.Dropout(.5, seed=seed))\n",
        "        if modelchoice>1:\n",
        "            model.add(tfkl.LSTM(units2))#(layer if 'layer' in locals() else input_layer)\n",
        "            if dropout2:\n",
        "                model.add(tfkl.Dropout(.3, seed=seed))\n",
        "        if modelchoice>2:\n",
        "            model.add(tfkl.LSTM(units3))#(layer if 'layer' in locals() else input_layer)\n",
        "            if dropout3:\n",
        "                model.add(tfkl.Dropout(.2, seed=seed))\n",
        "                \n",
        "    # Feature extractor v2: Bidirectional LSTM\n",
        "    elif modelchoice in [4,5,6]:\n",
        "        model.add(tfkl.Bidirectional(tfkl.LSTM(units1, return_sequences=True)))\n",
        "        if dropout1:\n",
        "            model.add(tfkl.Dropout(.5, seed=seed))\n",
        "        if modelchoice>4:\n",
        "            model.add(tfkl.Bidirectional(tfkl.LSTM(units2)))#(layer if 'layer' in locals() else input_layer)\n",
        "            if dropout2:\n",
        "                model.add(tfkl.Dropout(.3, seed=seed))\n",
        "        if modelchoice>5:\n",
        "            model.add(tfkl.Bidirectional(tfkl.LSTM(units3)))#(layer if 'layer' in locals() else input_layer)\n",
        "            if dropout3:\n",
        "                model.add(tfkl.Dropout(.2, seed=seed))\n",
        "    \n",
        "    # Feature extractor v3: Conv1D\n",
        "    if modelchoice in [7,8,9]:\n",
        "        model.add(tfkl.Conv1D(units1, 3, padding='same', activation='relu'))\n",
        "        if poolchoice1:\n",
        "            model.add(tfkl.MaxPooling1D())\n",
        "        if dropout1:\n",
        "            model.add(tfkl.Dropout(.5, seed=seed))\n",
        "            \n",
        "        if modelchoice>7:\n",
        "            model.add(tfkl.Conv1D(units2, 3, padding='same', activation='relu'))#(layer if 'layer' in locals() else input_layer)\n",
        "            if poolchoice2:\n",
        "                model.add(tfkl.MaxPooling1D())\n",
        "            if dropout2:\n",
        "                model.add(tfkl.Dropout(.3, seed=seed))\n",
        "                \n",
        "        if modelchoice>8:\n",
        "            model.add(tfkl.Conv1D(units3, 3, padding='same', activation='relu'))#(layer if 'layer' in locals() else input_layer)\n",
        "            if poolchoice3:\n",
        "                model.add(tfkl.MaxPooling1D())\n",
        "            if dropout3:\n",
        "                model.add(tfkl.Dropout(.2, seed=seed))\n",
        "        if avgpool:\n",
        "            model.add(tfkl.GlobalAveragePooling1D())\n",
        "\n",
        "    if dropout4:\n",
        "        model.add(tfkl.Dropout(.3, seed=seed))\n",
        "\n",
        "    # Classifier: always at least 1 dense\n",
        "    model.add(tfkl.Dense(unitsD1, activation='relu'))\n",
        "    if dense2: #maybe 2 denses\n",
        "        model.add(tfkl.Dense(unitsD2, activation='relu'))\n",
        "        \n",
        "    # Output\n",
        "    model.add(tfkl.Flatten())\n",
        "    model.add(tfkl.Dense(classes, activation='softmax'))\n",
        "\n",
        "    # Compile the model\n",
        "    model.compile(loss='categorical_crossentropy',\n",
        "                  optimizer=tfk.optimizers.Adam(learning_rate=lr),\n",
        "                  metrics='accuracy')\n",
        "\n",
        "    # Return the model\n",
        "    return model"
      ],
      "metadata": {
        "execution": {
          "iopub.status.busy": "2022-12-16T14:11:29.581826Z",
          "iopub.execute_input": "2022-12-16T14:11:29.582239Z",
          "iopub.status.idle": "2022-12-16T14:11:29.600217Z",
          "shell.execute_reply.started": "2022-12-16T14:11:29.582194Z",
          "shell.execute_reply": "2022-12-16T14:11:29.599239Z"
        },
        "trusted": true,
        "id": "nNDPfQgmyPku"
      },
      "execution_count": null,
      "outputs": []
    },
    {
      "cell_type": "code",
      "source": [
        "def build_model(hp):\n",
        "    modelchoice = hp.Choice(\"modelchoice\", [7,8,9]) # 1-3:lstm, 4-6:bilstm, 7-9:conv1d\n",
        "    poolchoice1 = hp.Boolean(\"poolchoice1\")\n",
        "    poolchoice2 = hp.Boolean(\"poolchoice2\")\n",
        "    poolchoice3 = hp.Boolean(\"poolchoice3\")\n",
        "    avgpool = hp.Boolean(\"avgpool\")\n",
        "    units1 = hp.Int(\"units1\", min_value=32, max_value=1024, step=32)\n",
        "    units2 = hp.Int(\"units2\", min_value=32, max_value=512, step=32)\n",
        "    units3 = hp.Int(\"units3\", min_value=32, max_value=256, step=32)\n",
        "    unitsD1 = hp.Int(\"unitsD1\", min_value=32, max_value=1024, step=32)\n",
        "    unitsD2 = hp.Int(\"unitsD2\", min_value=32, max_value=512, step=32)\n",
        "    dense2 = hp.Boolean(\"dense2\")\n",
        "    dropout1 = hp.Boolean(\"dropout1\")\n",
        "    dropout2 = hp.Boolean(\"dropout2\")\n",
        "    dropout3 = hp.Boolean(\"dropout3\")\n",
        "    dropout4 = hp.Boolean(\"dropout4\")\n",
        "    lr = hp.Float(\"lr\", min_value=1e-6, max_value=1e-3, sampling=\"log\")\n",
        "    # call existing model-building code with the hyperparameter values.\n",
        "    model = model_skeleton(input_shape, classes,\n",
        "                          modelchoice=modelchoice,\n",
        "                          units1=units1,\n",
        "                          units2=units2,\n",
        "                          units3=units3,\n",
        "                          unitsD1=unitsD1,\n",
        "                          unitsD2=unitsD2,\n",
        "                          dense2=dense2,\n",
        "                          dropout1=dropout1,\n",
        "                          dropout2=dropout2,\n",
        "                          dropout3=dropout3,\n",
        "                          dropout4=dropout4,\n",
        "                          poolchoice1=poolchoice1,\n",
        "                          poolchoice2=poolchoice2,\n",
        "                          poolchoice3=poolchoice3,\n",
        "                          avgpool=avgpool,\n",
        "                          lr=lr)\n",
        "    return model\n",
        "\n",
        "build_model(keras_tuner.HyperParameters())\n",
        "\n",
        "tuner = keras_tuner.Hyperband(\n",
        "    build_model,\n",
        "    objective='val_accuracy',\n",
        "#     max_trials=50, # different combinations of parameters #useless for hyperband\n",
        "    overwrite=True,\n",
        "    executions_per_trial=5, # try to retrain same model\n",
        "    directory=\"HPT\",\n",
        "    project_name=\"LSTM_HPT\",\n",
        "    )"
      ],
      "metadata": {
        "execution": {
          "iopub.status.busy": "2022-12-16T14:12:05.894796Z",
          "iopub.execute_input": "2022-12-16T14:12:05.895563Z",
          "iopub.status.idle": "2022-12-16T14:12:11.693204Z",
          "shell.execute_reply.started": "2022-12-16T14:12:05.895505Z",
          "shell.execute_reply": "2022-12-16T14:12:11.692234Z"
        },
        "trusted": true,
        "id": "XaoUr20PyPkv",
        "outputId": "ab6023ae-3174-428b-e7d0-19467c98e82d"
      },
      "execution_count": null,
      "outputs": [
        {
          "name": "stderr",
          "text": "2022-12-16 14:12:06.109407: I tensorflow/stream_executor/cuda/cuda_gpu_executor.cc:937] successful NUMA node read from SysFS had negative value (-1), but there must be at least one NUMA node, so returning NUMA node zero\n2022-12-16 14:12:06.110674: I tensorflow/stream_executor/cuda/cuda_gpu_executor.cc:937] successful NUMA node read from SysFS had negative value (-1), but there must be at least one NUMA node, so returning NUMA node zero\n2022-12-16 14:12:06.404866: I tensorflow/stream_executor/cuda/cuda_gpu_executor.cc:937] successful NUMA node read from SysFS had negative value (-1), but there must be at least one NUMA node, so returning NUMA node zero\n2022-12-16 14:12:06.405849: I tensorflow/stream_executor/cuda/cuda_gpu_executor.cc:937] successful NUMA node read from SysFS had negative value (-1), but there must be at least one NUMA node, so returning NUMA node zero\n2022-12-16 14:12:06.406729: I tensorflow/stream_executor/cuda/cuda_gpu_executor.cc:937] successful NUMA node read from SysFS had negative value (-1), but there must be at least one NUMA node, so returning NUMA node zero\n2022-12-16 14:12:06.407514: I tensorflow/stream_executor/cuda/cuda_gpu_executor.cc:937] successful NUMA node read from SysFS had negative value (-1), but there must be at least one NUMA node, so returning NUMA node zero\n2022-12-16 14:12:06.409044: I tensorflow/core/platform/cpu_feature_guard.cc:142] This TensorFlow binary is optimized with oneAPI Deep Neural Network Library (oneDNN) to use the following CPU instructions in performance-critical operations:  AVX2 AVX512F FMA\nTo enable them in other operations, rebuild TensorFlow with the appropriate compiler flags.\n2022-12-16 14:12:06.675210: I tensorflow/stream_executor/cuda/cuda_gpu_executor.cc:937] successful NUMA node read from SysFS had negative value (-1), but there must be at least one NUMA node, so returning NUMA node zero\n2022-12-16 14:12:06.676136: I tensorflow/stream_executor/cuda/cuda_gpu_executor.cc:937] successful NUMA node read from SysFS had negative value (-1), but there must be at least one NUMA node, so returning NUMA node zero\n2022-12-16 14:12:06.676936: I tensorflow/stream_executor/cuda/cuda_gpu_executor.cc:937] successful NUMA node read from SysFS had negative value (-1), but there must be at least one NUMA node, so returning NUMA node zero\n2022-12-16 14:12:06.677698: I tensorflow/stream_executor/cuda/cuda_gpu_executor.cc:937] successful NUMA node read from SysFS had negative value (-1), but there must be at least one NUMA node, so returning NUMA node zero\n2022-12-16 14:12:06.678396: I tensorflow/stream_executor/cuda/cuda_gpu_executor.cc:937] successful NUMA node read from SysFS had negative value (-1), but there must be at least one NUMA node, so returning NUMA node zero\n2022-12-16 14:12:06.679153: I tensorflow/stream_executor/cuda/cuda_gpu_executor.cc:937] successful NUMA node read from SysFS had negative value (-1), but there must be at least one NUMA node, so returning NUMA node zero\n2022-12-16 14:12:11.184085: I tensorflow/stream_executor/cuda/cuda_gpu_executor.cc:937] successful NUMA node read from SysFS had negative value (-1), but there must be at least one NUMA node, so returning NUMA node zero\n2022-12-16 14:12:11.185014: I tensorflow/stream_executor/cuda/cuda_gpu_executor.cc:937] successful NUMA node read from SysFS had negative value (-1), but there must be at least one NUMA node, so returning NUMA node zero\n2022-12-16 14:12:11.185766: I tensorflow/stream_executor/cuda/cuda_gpu_executor.cc:937] successful NUMA node read from SysFS had negative value (-1), but there must be at least one NUMA node, so returning NUMA node zero\n2022-12-16 14:12:11.186501: I tensorflow/stream_executor/cuda/cuda_gpu_executor.cc:937] successful NUMA node read from SysFS had negative value (-1), but there must be at least one NUMA node, so returning NUMA node zero\n2022-12-16 14:12:11.187211: I tensorflow/stream_executor/cuda/cuda_gpu_executor.cc:937] successful NUMA node read from SysFS had negative value (-1), but there must be at least one NUMA node, so returning NUMA node zero\n2022-12-16 14:12:11.187943: I tensorflow/core/common_runtime/gpu/gpu_device.cc:1510] Created device /job:localhost/replica:0/task:0/device:GPU:0 with 13789 MB memory:  -> device: 0, name: Tesla T4, pci bus id: 0000:00:04.0, compute capability: 7.5\n2022-12-16 14:12:11.192801: I tensorflow/stream_executor/cuda/cuda_gpu_executor.cc:937] successful NUMA node read from SysFS had negative value (-1), but there must be at least one NUMA node, so returning NUMA node zero\n2022-12-16 14:12:11.193497: I tensorflow/core/common_runtime/gpu/gpu_device.cc:1510] Created device /job:localhost/replica:0/task:0/device:GPU:1 with 13789 MB memory:  -> device: 1, name: Tesla T4, pci bus id: 0000:00:05.0, compute capability: 7.5\n",
          "output_type": "stream"
        }
      ]
    },
    {
      "cell_type": "markdown",
      "source": [
        "#### Run the tuner"
      ],
      "metadata": {
        "id": "aY17xLj3yPkx"
      }
    },
    {
      "cell_type": "code",
      "source": [
        "tuner.search(x_train, y_train,\n",
        "             validation_data=(x_val,y_val),\n",
        "             epochs=15,\n",
        "             callbacks=[\n",
        "        tfk.callbacks.EarlyStopping(monitor='val_accuracy', mode='max', patience=10, restore_best_weights=True),\n",
        "        tfk.callbacks.ReduceLROnPlateau(monitor='val_accuracy', mode='max', patience=5, factor=0.5, min_lr=1e-5)\n",
        "             ])"
      ],
      "metadata": {
        "execution": {
          "iopub.status.busy": "2022-12-16T14:12:14.947830Z",
          "iopub.execute_input": "2022-12-16T14:12:14.948219Z",
          "iopub.status.idle": "2022-12-16T16:02:36.190048Z",
          "shell.execute_reply.started": "2022-12-16T14:12:14.948186Z",
          "shell.execute_reply": "2022-12-16T16:02:36.189033Z"
        },
        "trusted": true,
        "id": "eNRzUr1_yPkx",
        "outputId": "cbe64c20-4fe6-4b3c-a113-814cc690c507"
      },
      "execution_count": null,
      "outputs": [
        {
          "name": "stdout",
          "text": "Trial 254 Complete [00h 02m 13s]\nval_accuracy: 0.5353909432888031\n\nBest val_accuracy So Far: 0.7304526567459106\nTotal elapsed time: 01h 50m 21s\n",
          "output_type": "stream"
        }
      ]
    },
    {
      "cell_type": "markdown",
      "source": [
        "#### Elaborate results"
      ],
      "metadata": {
        "id": "vLUlhnnvyPky"
      }
    },
    {
      "cell_type": "code",
      "source": [
        "model_list = tuner.get_best_models(num_models = 2)\n",
        "best_model = model_list[0]\n",
        "\n",
        "best_model.build()\n",
        "best_model.summary()"
      ],
      "metadata": {
        "execution": {
          "iopub.status.busy": "2022-12-16T16:02:36.192136Z",
          "iopub.execute_input": "2022-12-16T16:02:36.192861Z",
          "iopub.status.idle": "2022-12-16T16:02:37.568960Z",
          "shell.execute_reply.started": "2022-12-16T16:02:36.192821Z",
          "shell.execute_reply": "2022-12-16T16:02:37.568007Z"
        },
        "trusted": true,
        "id": "6R4uJUGayPky",
        "outputId": "993c6af6-19df-450d-c517-c8c0708f6be3"
      },
      "execution_count": null,
      "outputs": [
        {
          "output_type": "stream",
          "name": "stdout",
          "text": [
            "Model loaded!\n",
            "\n",
            "Model: \"sequential\"\n",
            "_________________________________________________________________\n",
            " Layer (type)                Output Shape              Param #   \n",
            "=================================================================\n",
            " Input (InputLayer)          [(None, 36, 6)]           0         \n",
            "                                                                 \n",
            " conv1d_2 (Conv1D)           (None, 36, 512)           9728      \n",
            "                                                                 \n",
            " max_pooling1d_1 (MaxPooling  (None, 18, 512)          0         \n",
            " 1D)                                                             \n",
            "                                                                 \n",
            " conv1d_3 (Conv1D)           (None, 18, 512)           786944    \n",
            "                                                                 \n",
            " global_average_pooling1d_1   (None, 512)              0         \n",
            " (GlobalAveragePooling1D)                                        \n",
            "                                                                 \n",
            " dropout_1 (Dropout)         (None, 512)               0         \n",
            "                                                                 \n",
            " dense_2 (Dense)             (None, 512)               262656    \n",
            "                                                                 \n",
            " dense_3 (Dense)             (None, 12)                6156      \n",
            "                                                                 \n",
            "=================================================================\n",
            "Total params: 1,065,484\n",
            "Trainable params: 1,065,484\n",
            "Non-trainable params: 0\n",
            "_________________________________________________________________\n"
          ]
        }
      ]
    },
    {
      "cell_type": "code",
      "source": [
        "tuner.results_summary()"
      ],
      "metadata": {
        "execution": {
          "iopub.status.busy": "2022-12-16T16:02:37.570486Z",
          "iopub.execute_input": "2022-12-16T16:02:37.570838Z",
          "iopub.status.idle": "2022-12-16T16:02:37.580622Z",
          "shell.execute_reply.started": "2022-12-16T16:02:37.570803Z",
          "shell.execute_reply": "2022-12-16T16:02:37.579589Z"
        },
        "trusted": true,
        "id": "UXTwdJ3RyPkz",
        "outputId": "44fd095e-0d04-4178-ccb3-ff8f5c884962"
      },
      "execution_count": null,
      "outputs": [
        {
          "name": "stdout",
          "text": "Results summary\nResults in HPT/LSTM_HPT\nShowing 10 best trials\n<keras_tuner.engine.objective.Objective object at 0x7f7a5b939f50>\nTrial summary\nHyperparameters:\nmodelchoice: 8\npoolchoice1: True\npoolchoice2: False\npoolchoice3: False\navgpool: True\nunits1: 544\nunits2: 448\nunits3: 128\nunitsD1: 512\nunitsD2: 128\ndense2: False\ndropout1: False\ndropout2: False\ndropout3: False\ndropout4: True\nlr: 0.0009250588597236514\ntuner/epochs: 100\ntuner/initial_epoch: 34\ntuner/bracket: 3\ntuner/round: 3\ntuner/trial_id: 0203\nScore: 0.7304526567459106\nTrial summary\nHyperparameters:\nmodelchoice: 8\npoolchoice1: True\npoolchoice2: True\npoolchoice3: False\navgpool: True\nunits1: 704\nunits2: 192\nunits3: 128\nunitsD1: 608\nunitsD2: 96\ndense2: False\ndropout1: False\ndropout2: False\ndropout3: False\ndropout4: False\nlr: 0.000911249456316419\ntuner/epochs: 100\ntuner/initial_epoch: 34\ntuner/bracket: 1\ntuner/round: 1\ntuner/trial_id: 0239\nScore: 0.7139917612075806\nTrial summary\nHyperparameters:\nmodelchoice: 9\npoolchoice1: True\npoolchoice2: False\npoolchoice3: True\navgpool: True\nunits1: 160\nunits2: 288\nunits3: 32\nunitsD1: 992\nunitsD2: 128\ndense2: True\ndropout1: False\ndropout2: False\ndropout3: True\ndropout4: False\nlr: 0.0007757147793507625\ntuner/epochs: 100\ntuner/initial_epoch: 34\ntuner/bracket: 4\ntuner/round: 4\ntuner/trial_id: 0143\nScore: 0.7074074029922486\nTrial summary\nHyperparameters:\nmodelchoice: 8\npoolchoice1: True\npoolchoice2: True\npoolchoice3: True\navgpool: True\nunits1: 384\nunits2: 128\nunits3: 192\nunitsD1: 736\nunitsD2: 192\ndense2: True\ndropout1: True\ndropout2: False\ndropout3: False\ndropout4: True\nlr: 0.0006899754586040456\ntuner/epochs: 100\ntuner/initial_epoch: 34\ntuner/bracket: 3\ntuner/round: 3\ntuner/trial_id: 0205\nScore: 0.7074074029922486\nTrial summary\nHyperparameters:\nmodelchoice: 9\npoolchoice1: True\npoolchoice2: True\npoolchoice3: False\navgpool: True\nunits1: 704\nunits2: 192\nunits3: 128\nunitsD1: 608\nunitsD2: 96\ndense2: True\ndropout1: True\ndropout2: False\ndropout3: False\ndropout4: True\nlr: 0.000911249456316419\ntuner/epochs: 34\ntuner/initial_epoch: 0\ntuner/bracket: 1\ntuner/round: 0\nScore: 0.7045267462730408\nTrial summary\nHyperparameters:\nmodelchoice: 8\npoolchoice1: False\npoolchoice2: True\npoolchoice3: False\navgpool: True\nunits1: 928\nunits2: 128\nunits3: 160\nunitsD1: 768\nunitsD2: 416\ndense2: True\ndropout1: False\ndropout2: False\ndropout3: True\ndropout4: False\nlr: 0.00024011306043199358\ntuner/epochs: 100\ntuner/initial_epoch: 34\ntuner/bracket: 4\ntuner/round: 4\ntuner/trial_id: 0142\nScore: 0.7020576119422912\nTrial summary\nHyperparameters:\nmodelchoice: 9\npoolchoice1: True\npoolchoice2: True\npoolchoice3: True\navgpool: False\nunits1: 736\nunits2: 64\nunits3: 96\nunitsD1: 192\nunitsD2: 384\ndense2: True\ndropout1: True\ndropout2: False\ndropout3: True\ndropout4: True\nlr: 0.0007228592990578751\ntuner/epochs: 100\ntuner/initial_epoch: 34\ntuner/bracket: 1\ntuner/round: 1\ntuner/trial_id: 0238\nScore: 0.6946502089500427\nTrial summary\nHyperparameters:\nmodelchoice: 9\npoolchoice1: True\npoolchoice2: False\npoolchoice3: False\navgpool: True\nunits1: 544\nunits2: 448\nunits3: 128\nunitsD1: 896\nunitsD2: 128\ndense2: False\ndropout1: True\ndropout2: False\ndropout3: False\ndropout4: False\nlr: 0.0009250588597236514\ntuner/epochs: 34\ntuner/initial_epoch: 12\ntuner/bracket: 3\ntuner/round: 2\ntuner/trial_id: 0190\nScore: 0.6913580298423767\nTrial summary\nHyperparameters:\nmodelchoice: 9\npoolchoice1: True\npoolchoice2: False\npoolchoice3: True\navgpool: True\nunits1: 160\nunits2: 288\nunits3: 32\nunitsD1: 992\nunitsD2: 128\ndense2: True\ndropout1: False\ndropout2: False\ndropout3: True\ndropout4: False\nlr: 0.0007757147793507625\ntuner/epochs: 34\ntuner/initial_epoch: 12\ntuner/bracket: 4\ntuner/round: 3\ntuner/trial_id: 0137\nScore: 0.6753086447715759\nTrial summary\nHyperparameters:\nmodelchoice: 9\npoolchoice1: False\npoolchoice2: True\npoolchoice3: True\navgpool: True\nunits1: 992\nunits2: 256\nunits3: 64\nunitsD1: 448\nunitsD2: 96\ndense2: True\ndropout1: False\ndropout2: False\ndropout3: False\ndropout4: True\nlr: 0.00012395151911155365\ntuner/epochs: 100\ntuner/initial_epoch: 0\ntuner/bracket: 0\ntuner/round: 0\nScore: 0.6740740895271301\n",
          "output_type": "stream"
        }
      ]
    },
    {
      "cell_type": "code",
      "source": [
        "import shutil\n",
        "best_model.save('bestmodel')\n",
        "shutil.make_archive('/kaggle/working/bestmodel',\n",
        "                    'zip',\n",
        "                    '/kaggle/working/',\n",
        "                    'bestmodel')"
      ],
      "metadata": {
        "execution": {
          "iopub.status.busy": "2022-12-16T22:53:02.553213Z",
          "iopub.execute_input": "2022-12-16T22:53:02.553663Z",
          "iopub.status.idle": "2022-12-16T22:53:04.569039Z",
          "shell.execute_reply.started": "2022-12-16T22:53:02.553624Z",
          "shell.execute_reply": "2022-12-16T22:53:04.566925Z"
        },
        "trusted": true,
        "id": "Wb1N67d8yPkz",
        "outputId": "e431e7d6-4bae-431f-d687-9516cacaf989"
      },
      "execution_count": null,
      "outputs": [
        {
          "name": "stderr",
          "text": "2022-12-16 22:53:03.000560: W tensorflow/python/util/util.cc:348] Sets are not currently considered sequences, but this may change in the future, so consider avoiding using them.\n",
          "output_type": "stream"
        },
        {
          "execution_count": 11,
          "output_type": "execute_result",
          "data": {
            "text/plain": "'/kaggle/working/bestmodel.zip'"
          },
          "metadata": {}
        }
      ]
    },
    {
      "cell_type": "code",
      "source": [
        "def best_model(input_shape, classes,\n",
        "                  #  modelchoice=8,\n",
        "                  #  units1=512,\n",
        "                  #  units2=512,\n",
        "                  # #  units3,\n",
        "                  #  unitsD1=512,\n",
        "                  # #  unitsD2,\n",
        "                  #  dense2=False,\n",
        "                  #  dropout1=False,\n",
        "                  #  dropout2=False,\n",
        "                  #  dropout3=False,\n",
        "                  #  dropout4=True,\n",
        "                  #  poolchoice1=True,\n",
        "                  #  poolchoice2=False,\n",
        "                  #  poolchoice3=False,\n",
        "                  #  avgpool=True,\n",
        "                  #  lr=.0009250588597236514\n",
        "               ):\n",
        "  \n",
        "    # Build the neural network layer by layer\n",
        "    model = tfk.models.Sequential()\n",
        "    model.add(tfkl.Input(shape=input_shape, name='Input'))\n",
        "    model.add(tfkl.Conv1D(units1, 3, padding='same', activation='relu'))\n",
        "    model.add(tfkl.MaxPooling1D())\n",
        "    model.add(tfkl.Conv1D(units2, 3, padding='same', activation='relu'))\n",
        "    model.add(tfkl.GlobalAveragePooling1D())\n",
        "    model.add(tfkl.Dropout(.3, seed=seed))\n",
        "\n",
        "    # Classifier\n",
        "    model.add(tfkl.Dense(unitsD1, activation='relu'))\n",
        "\n",
        "    # Output\n",
        "    model.add(tfkl.Flatten())\n",
        "    model.add(tfkl.Dense(classes, activation='softmax'))\n",
        "\n",
        "    # Compile the model\n",
        "    model.compile(loss='categorical_crossentropy',\n",
        "                  optimizer=tfk.optimizers.Adam(learning_rate=.0009250588597236514),\n",
        "                  metrics='accuracy')\n",
        "\n",
        "    # Return the model\n",
        "    return model"
      ],
      "metadata": {
        "id": "IcXLG8JK8PES"
      },
      "execution_count": null,
      "outputs": []
    }
  ]
}